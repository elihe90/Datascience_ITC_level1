{
 "cells": [
  {
   "cell_type": "markdown",
   "id": "a403b85f",
   "metadata": {},
   "source": [
    "# pandas session2"
   ]
  },
  {
   "cell_type": "code",
   "execution_count": 103,
   "id": "f4552ed5",
   "metadata": {},
   "outputs": [],
   "source": [
    "import numpy as np\n",
    "import pandas as pd\n",
    "import matplotlib.pyplot as plt"
   ]
  },
  {
   "cell_type": "code",
   "execution_count": 9,
   "id": "4695852c",
   "metadata": {},
   "outputs": [
    {
     "data": {
      "text/html": [
       "<div>\n",
       "<style scoped>\n",
       "    .dataframe tbody tr th:only-of-type {\n",
       "        vertical-align: middle;\n",
       "    }\n",
       "\n",
       "    .dataframe tbody tr th {\n",
       "        vertical-align: top;\n",
       "    }\n",
       "\n",
       "    .dataframe thead th {\n",
       "        text-align: right;\n",
       "    }\n",
       "</style>\n",
       "<table border=\"1\" class=\"dataframe\">\n",
       "  <thead>\n",
       "    <tr style=\"text-align: right;\">\n",
       "      <th></th>\n",
       "      <th>id_product</th>\n",
       "      <th>demand</th>\n",
       "      <th>name</th>\n",
       "      <th>brand</th>\n",
       "      <th>price</th>\n",
       "    </tr>\n",
       "  </thead>\n",
       "  <tbody>\n",
       "    <tr>\n",
       "      <th>0</th>\n",
       "      <td>s1</td>\n",
       "      <td>120</td>\n",
       "      <td>t1</td>\n",
       "      <td>x</td>\n",
       "      <td>200</td>\n",
       "    </tr>\n",
       "    <tr>\n",
       "      <th>1</th>\n",
       "      <td>s2</td>\n",
       "      <td>20</td>\n",
       "      <td>t2</td>\n",
       "      <td>n</td>\n",
       "      <td>100</td>\n",
       "    </tr>\n",
       "    <tr>\n",
       "      <th>2</th>\n",
       "      <td>s3</td>\n",
       "      <td>30</td>\n",
       "      <td>t3</td>\n",
       "      <td>y</td>\n",
       "      <td>300</td>\n",
       "    </tr>\n",
       "    <tr>\n",
       "      <th>3</th>\n",
       "      <td>s4</td>\n",
       "      <td>50</td>\n",
       "      <td>t4</td>\n",
       "      <td>z</td>\n",
       "      <td>400</td>\n",
       "    </tr>\n",
       "  </tbody>\n",
       "</table>\n",
       "</div>"
      ],
      "text/plain": [
       "  id_product  demand name brand  price\n",
       "0         s1     120   t1     x    200\n",
       "1         s2      20   t2     n    100\n",
       "2         s3      30   t3     y    300\n",
       "3         s4      50   t4     z    400"
      ]
     },
     "execution_count": 9,
     "metadata": {},
     "output_type": "execute_result"
    }
   ],
   "source": [
    "df = pd.DataFrame({'id_product' : ['s1', 's2', 's3', 's4'],\n",
    "                   'demand':[120,20,30,50],\n",
    "                   'name': ['t1', 't2', 't3', 't4'],\n",
    "                   'brand' : ['x', 'n', 'y', 'z'],\n",
    "                    'price':[200, 100 ,300 ,400 ]})\n",
    "df"
   ]
  },
  {
   "cell_type": "code",
   "execution_count": 15,
   "id": "131b3e50",
   "metadata": {},
   "outputs": [
    {
     "data": {
      "text/html": [
       "<div>\n",
       "<style scoped>\n",
       "    .dataframe tbody tr th:only-of-type {\n",
       "        vertical-align: middle;\n",
       "    }\n",
       "\n",
       "    .dataframe tbody tr th {\n",
       "        vertical-align: top;\n",
       "    }\n",
       "\n",
       "    .dataframe thead th {\n",
       "        text-align: right;\n",
       "    }\n",
       "</style>\n",
       "<table border=\"1\" class=\"dataframe\">\n",
       "  <thead>\n",
       "    <tr style=\"text-align: right;\">\n",
       "      <th></th>\n",
       "      <th>id_product</th>\n",
       "      <th>demand</th>\n",
       "      <th>name</th>\n",
       "      <th>brand</th>\n",
       "      <th>price</th>\n",
       "    </tr>\n",
       "  </thead>\n",
       "  <tbody>\n",
       "    <tr>\n",
       "      <th>n1</th>\n",
       "      <td>s1</td>\n",
       "      <td>120</td>\n",
       "      <td>t1</td>\n",
       "      <td>x</td>\n",
       "      <td>200</td>\n",
       "    </tr>\n",
       "    <tr>\n",
       "      <th>n2</th>\n",
       "      <td>s2</td>\n",
       "      <td>20</td>\n",
       "      <td>t2</td>\n",
       "      <td>n</td>\n",
       "      <td>100</td>\n",
       "    </tr>\n",
       "    <tr>\n",
       "      <th>n3</th>\n",
       "      <td>s3</td>\n",
       "      <td>30</td>\n",
       "      <td>t3</td>\n",
       "      <td>y</td>\n",
       "      <td>300</td>\n",
       "    </tr>\n",
       "    <tr>\n",
       "      <th>n4</th>\n",
       "      <td>s4</td>\n",
       "      <td>50</td>\n",
       "      <td>t4</td>\n",
       "      <td>z</td>\n",
       "      <td>400</td>\n",
       "    </tr>\n",
       "  </tbody>\n",
       "</table>\n",
       "</div>"
      ],
      "text/plain": [
       "   id_product  demand name brand  price\n",
       "n1         s1     120   t1     x    200\n",
       "n2         s2      20   t2     n    100\n",
       "n3         s3      30   t3     y    300\n",
       "n4         s4      50   t4     z    400"
      ]
     },
     "execution_count": 15,
     "metadata": {},
     "output_type": "execute_result"
    }
   ],
   "source": [
    "df.index = ['n1', 'n2', 'n3', 'n4']\n",
    "df"
   ]
  },
  {
   "cell_type": "code",
   "execution_count": 5,
   "id": "46b36944",
   "metadata": {},
   "outputs": [
    {
     "name": "stdout",
     "output_type": "stream",
     "text": [
      "<class 'pandas.core.frame.DataFrame'>\n",
      "RangeIndex: 4 entries, 0 to 3\n",
      "Data columns (total 5 columns):\n",
      " #   Column      Non-Null Count  Dtype \n",
      "---  ------      --------------  ----- \n",
      " 0   id_product  4 non-null      object\n",
      " 1   demand      4 non-null      int64 \n",
      " 2   name        4 non-null      object\n",
      " 3   brand       4 non-null      object\n",
      " 4   size        4 non-null      int64 \n",
      "dtypes: int64(2), object(3)\n",
      "memory usage: 288.0+ bytes\n"
     ]
    }
   ],
   "source": [
    "df.info()"
   ]
  },
  {
   "cell_type": "code",
   "execution_count": 6,
   "id": "09c56ea0",
   "metadata": {},
   "outputs": [
    {
     "data": {
      "text/plain": [
       "0    120\n",
       "1     20\n",
       "2     30\n",
       "3     50\n",
       "Name: demand, dtype: int64"
      ]
     },
     "execution_count": 6,
     "metadata": {},
     "output_type": "execute_result"
    }
   ],
   "source": [
    "df.demand"
   ]
  },
  {
   "cell_type": "code",
   "execution_count": 14,
   "id": "de423944",
   "metadata": {},
   "outputs": [
    {
     "data": {
      "text/html": [
       "<div>\n",
       "<style scoped>\n",
       "    .dataframe tbody tr th:only-of-type {\n",
       "        vertical-align: middle;\n",
       "    }\n",
       "\n",
       "    .dataframe tbody tr th {\n",
       "        vertical-align: top;\n",
       "    }\n",
       "\n",
       "    .dataframe thead th {\n",
       "        text-align: right;\n",
       "    }\n",
       "</style>\n",
       "<table border=\"1\" class=\"dataframe\">\n",
       "  <thead>\n",
       "    <tr style=\"text-align: right;\">\n",
       "      <th></th>\n",
       "      <th>demand</th>\n",
       "      <th>price</th>\n",
       "      <th>id_product</th>\n",
       "    </tr>\n",
       "  </thead>\n",
       "  <tbody>\n",
       "    <tr>\n",
       "      <th>0</th>\n",
       "      <td>120</td>\n",
       "      <td>200</td>\n",
       "      <td>s1</td>\n",
       "    </tr>\n",
       "    <tr>\n",
       "      <th>1</th>\n",
       "      <td>20</td>\n",
       "      <td>100</td>\n",
       "      <td>s2</td>\n",
       "    </tr>\n",
       "    <tr>\n",
       "      <th>2</th>\n",
       "      <td>30</td>\n",
       "      <td>300</td>\n",
       "      <td>s3</td>\n",
       "    </tr>\n",
       "    <tr>\n",
       "      <th>3</th>\n",
       "      <td>50</td>\n",
       "      <td>400</td>\n",
       "      <td>s4</td>\n",
       "    </tr>\n",
       "  </tbody>\n",
       "</table>\n",
       "</div>"
      ],
      "text/plain": [
       "   demand  price id_product\n",
       "0     120    200         s1\n",
       "1      20    100         s2\n",
       "2      30    300         s3\n",
       "3      50    400         s4"
      ]
     },
     "execution_count": 14,
     "metadata": {},
     "output_type": "execute_result"
    }
   ],
   "source": [
    "df[['demand','price','id_product']]"
   ]
  },
  {
   "cell_type": "code",
   "execution_count": null,
   "id": "12184538",
   "metadata": {},
   "outputs": [],
   "source": [
    "#iloc ,loc\n",
    "#df.iloc[row,column]\n"
   ]
  },
  {
   "cell_type": "code",
   "execution_count": 22,
   "id": "21f37b73",
   "metadata": {},
   "outputs": [
    {
     "data": {
      "text/html": [
       "<div>\n",
       "<style scoped>\n",
       "    .dataframe tbody tr th:only-of-type {\n",
       "        vertical-align: middle;\n",
       "    }\n",
       "\n",
       "    .dataframe tbody tr th {\n",
       "        vertical-align: top;\n",
       "    }\n",
       "\n",
       "    .dataframe thead th {\n",
       "        text-align: right;\n",
       "    }\n",
       "</style>\n",
       "<table border=\"1\" class=\"dataframe\">\n",
       "  <thead>\n",
       "    <tr style=\"text-align: right;\">\n",
       "      <th></th>\n",
       "      <th>id_product</th>\n",
       "      <th>demand</th>\n",
       "      <th>name</th>\n",
       "      <th>brand</th>\n",
       "      <th>price</th>\n",
       "    </tr>\n",
       "  </thead>\n",
       "  <tbody>\n",
       "    <tr>\n",
       "      <th>n1</th>\n",
       "      <td>s1</td>\n",
       "      <td>120</td>\n",
       "      <td>t1</td>\n",
       "      <td>x</td>\n",
       "      <td>200</td>\n",
       "    </tr>\n",
       "    <tr>\n",
       "      <th>n2</th>\n",
       "      <td>s2</td>\n",
       "      <td>20</td>\n",
       "      <td>t2</td>\n",
       "      <td>n</td>\n",
       "      <td>100</td>\n",
       "    </tr>\n",
       "    <tr>\n",
       "      <th>n3</th>\n",
       "      <td>s3</td>\n",
       "      <td>30</td>\n",
       "      <td>t3</td>\n",
       "      <td>y</td>\n",
       "      <td>300</td>\n",
       "    </tr>\n",
       "    <tr>\n",
       "      <th>n4</th>\n",
       "      <td>s4</td>\n",
       "      <td>50</td>\n",
       "      <td>t4</td>\n",
       "      <td>z</td>\n",
       "      <td>400</td>\n",
       "    </tr>\n",
       "  </tbody>\n",
       "</table>\n",
       "</div>"
      ],
      "text/plain": [
       "   id_product  demand name brand  price\n",
       "n1         s1     120   t1     x    200\n",
       "n2         s2      20   t2     n    100\n",
       "n3         s3      30   t3     y    300\n",
       "n4         s4      50   t4     z    400"
      ]
     },
     "execution_count": 22,
     "metadata": {},
     "output_type": "execute_result"
    }
   ],
   "source": [
    "df"
   ]
  },
  {
   "cell_type": "code",
   "execution_count": 20,
   "id": "032d7c19",
   "metadata": {},
   "outputs": [
    {
     "data": {
      "text/plain": [
       "id_product     s1\n",
       "demand        120\n",
       "name           t1\n",
       "brand           x\n",
       "price         200\n",
       "Name: n1, dtype: object"
      ]
     },
     "execution_count": 20,
     "metadata": {},
     "output_type": "execute_result"
    }
   ],
   "source": [
    "df.iloc[0]"
   ]
  },
  {
   "cell_type": "code",
   "execution_count": 21,
   "id": "5fa107b2",
   "metadata": {},
   "outputs": [
    {
     "data": {
      "text/plain": [
       "'t2'"
      ]
     },
     "execution_count": 21,
     "metadata": {},
     "output_type": "execute_result"
    }
   ],
   "source": [
    "df.iloc[1,2]"
   ]
  },
  {
   "cell_type": "code",
   "execution_count": 23,
   "id": "994c17f7",
   "metadata": {},
   "outputs": [
    {
     "data": {
      "text/plain": [
       "id_product     s1\n",
       "demand        120\n",
       "name           t1\n",
       "brand           x\n",
       "price         200\n",
       "Name: n1, dtype: object"
      ]
     },
     "execution_count": 23,
     "metadata": {},
     "output_type": "execute_result"
    }
   ],
   "source": [
    "df.iloc[0,:]"
   ]
  },
  {
   "cell_type": "code",
   "execution_count": 24,
   "id": "2ba0aa5b",
   "metadata": {},
   "outputs": [
    {
     "data": {
      "text/html": [
       "<div>\n",
       "<style scoped>\n",
       "    .dataframe tbody tr th:only-of-type {\n",
       "        vertical-align: middle;\n",
       "    }\n",
       "\n",
       "    .dataframe tbody tr th {\n",
       "        vertical-align: top;\n",
       "    }\n",
       "\n",
       "    .dataframe thead th {\n",
       "        text-align: right;\n",
       "    }\n",
       "</style>\n",
       "<table border=\"1\" class=\"dataframe\">\n",
       "  <thead>\n",
       "    <tr style=\"text-align: right;\">\n",
       "      <th></th>\n",
       "      <th>id_product</th>\n",
       "      <th>demand</th>\n",
       "      <th>name</th>\n",
       "      <th>brand</th>\n",
       "      <th>price</th>\n",
       "    </tr>\n",
       "  </thead>\n",
       "  <tbody>\n",
       "    <tr>\n",
       "      <th>n1</th>\n",
       "      <td>s1</td>\n",
       "      <td>120</td>\n",
       "      <td>t1</td>\n",
       "      <td>x</td>\n",
       "      <td>200</td>\n",
       "    </tr>\n",
       "    <tr>\n",
       "      <th>n2</th>\n",
       "      <td>s2</td>\n",
       "      <td>20</td>\n",
       "      <td>t2</td>\n",
       "      <td>n</td>\n",
       "      <td>100</td>\n",
       "    </tr>\n",
       "    <tr>\n",
       "      <th>n3</th>\n",
       "      <td>s3</td>\n",
       "      <td>30</td>\n",
       "      <td>t3</td>\n",
       "      <td>y</td>\n",
       "      <td>300</td>\n",
       "    </tr>\n",
       "    <tr>\n",
       "      <th>n4</th>\n",
       "      <td>s4</td>\n",
       "      <td>50</td>\n",
       "      <td>t4</td>\n",
       "      <td>z</td>\n",
       "      <td>400</td>\n",
       "    </tr>\n",
       "  </tbody>\n",
       "</table>\n",
       "</div>"
      ],
      "text/plain": [
       "   id_product  demand name brand  price\n",
       "n1         s1     120   t1     x    200\n",
       "n2         s2      20   t2     n    100\n",
       "n3         s3      30   t3     y    300\n",
       "n4         s4      50   t4     z    400"
      ]
     },
     "execution_count": 24,
     "metadata": {},
     "output_type": "execute_result"
    }
   ],
   "source": [
    "df"
   ]
  },
  {
   "cell_type": "code",
   "execution_count": 29,
   "id": "dda72ec0",
   "metadata": {},
   "outputs": [
    {
     "data": {
      "text/plain": [
       "n2    100\n",
       "n4    400\n",
       "Name: price, dtype: int64"
      ]
     },
     "execution_count": 29,
     "metadata": {},
     "output_type": "execute_result"
    }
   ],
   "source": [
    "df.iloc[[1,3],-1]"
   ]
  },
  {
   "cell_type": "code",
   "execution_count": 31,
   "id": "5ca6c245",
   "metadata": {},
   "outputs": [
    {
     "data": {
      "text/plain": [
       "n1    200\n",
       "n2    100\n",
       "n3    300\n",
       "n4    400\n",
       "Name: price, dtype: int64"
      ]
     },
     "execution_count": 31,
     "metadata": {},
     "output_type": "execute_result"
    }
   ],
   "source": [
    " df.iloc[:,-1]"
   ]
  },
  {
   "cell_type": "code",
   "execution_count": 32,
   "id": "100d4e86",
   "metadata": {},
   "outputs": [
    {
     "data": {
      "text/plain": [
       "n1    120\n",
       "n2     20\n",
       "n3     30\n",
       "n4     50\n",
       "Name: demand, dtype: int64"
      ]
     },
     "execution_count": 32,
     "metadata": {},
     "output_type": "execute_result"
    }
   ],
   "source": [
    "df.loc[:,'demand']"
   ]
  },
  {
   "cell_type": "code",
   "execution_count": 34,
   "id": "a2fa8dc0",
   "metadata": {},
   "outputs": [
    {
     "data": {
      "text/html": [
       "<div>\n",
       "<style scoped>\n",
       "    .dataframe tbody tr th:only-of-type {\n",
       "        vertical-align: middle;\n",
       "    }\n",
       "\n",
       "    .dataframe tbody tr th {\n",
       "        vertical-align: top;\n",
       "    }\n",
       "\n",
       "    .dataframe thead th {\n",
       "        text-align: right;\n",
       "    }\n",
       "</style>\n",
       "<table border=\"1\" class=\"dataframe\">\n",
       "  <thead>\n",
       "    <tr style=\"text-align: right;\">\n",
       "      <th></th>\n",
       "      <th>brand</th>\n",
       "      <th>demand</th>\n",
       "    </tr>\n",
       "  </thead>\n",
       "  <tbody>\n",
       "    <tr>\n",
       "      <th>n1</th>\n",
       "      <td>x</td>\n",
       "      <td>120</td>\n",
       "    </tr>\n",
       "    <tr>\n",
       "      <th>n2</th>\n",
       "      <td>n</td>\n",
       "      <td>20</td>\n",
       "    </tr>\n",
       "  </tbody>\n",
       "</table>\n",
       "</div>"
      ],
      "text/plain": [
       "   brand  demand\n",
       "n1     x     120\n",
       "n2     n      20"
      ]
     },
     "execution_count": 34,
     "metadata": {},
     "output_type": "execute_result"
    }
   ],
   "source": [
    "df.loc[['n1','n2'],['brand','demand']]"
   ]
  },
  {
   "cell_type": "code",
   "execution_count": 35,
   "id": "8b711fa0",
   "metadata": {},
   "outputs": [
    {
     "data": {
      "text/html": [
       "<div>\n",
       "<style scoped>\n",
       "    .dataframe tbody tr th:only-of-type {\n",
       "        vertical-align: middle;\n",
       "    }\n",
       "\n",
       "    .dataframe tbody tr th {\n",
       "        vertical-align: top;\n",
       "    }\n",
       "\n",
       "    .dataframe thead th {\n",
       "        text-align: right;\n",
       "    }\n",
       "</style>\n",
       "<table border=\"1\" class=\"dataframe\">\n",
       "  <thead>\n",
       "    <tr style=\"text-align: right;\">\n",
       "      <th></th>\n",
       "      <th>id_product</th>\n",
       "      <th>demand</th>\n",
       "      <th>name</th>\n",
       "      <th>brand</th>\n",
       "      <th>price</th>\n",
       "    </tr>\n",
       "  </thead>\n",
       "  <tbody>\n",
       "    <tr>\n",
       "      <th>n1</th>\n",
       "      <td>s1</td>\n",
       "      <td>120</td>\n",
       "      <td>t1</td>\n",
       "      <td>x</td>\n",
       "      <td>200</td>\n",
       "    </tr>\n",
       "    <tr>\n",
       "      <th>n2</th>\n",
       "      <td>s2</td>\n",
       "      <td>20</td>\n",
       "      <td>t2</td>\n",
       "      <td>n</td>\n",
       "      <td>100</td>\n",
       "    </tr>\n",
       "    <tr>\n",
       "      <th>n3</th>\n",
       "      <td>s3</td>\n",
       "      <td>30</td>\n",
       "      <td>t3</td>\n",
       "      <td>y</td>\n",
       "      <td>300</td>\n",
       "    </tr>\n",
       "    <tr>\n",
       "      <th>n4</th>\n",
       "      <td>s4</td>\n",
       "      <td>50</td>\n",
       "      <td>t4</td>\n",
       "      <td>z</td>\n",
       "      <td>400</td>\n",
       "    </tr>\n",
       "  </tbody>\n",
       "</table>\n",
       "</div>"
      ],
      "text/plain": [
       "   id_product  demand name brand  price\n",
       "n1         s1     120   t1     x    200\n",
       "n2         s2      20   t2     n    100\n",
       "n3         s3      30   t3     y    300\n",
       "n4         s4      50   t4     z    400"
      ]
     },
     "execution_count": 35,
     "metadata": {},
     "output_type": "execute_result"
    }
   ],
   "source": [
    "df"
   ]
  },
  {
   "cell_type": "code",
   "execution_count": 36,
   "id": "00c62346",
   "metadata": {},
   "outputs": [
    {
     "data": {
      "text/html": [
       "<div>\n",
       "<style scoped>\n",
       "    .dataframe tbody tr th:only-of-type {\n",
       "        vertical-align: middle;\n",
       "    }\n",
       "\n",
       "    .dataframe tbody tr th {\n",
       "        vertical-align: top;\n",
       "    }\n",
       "\n",
       "    .dataframe thead th {\n",
       "        text-align: right;\n",
       "    }\n",
       "</style>\n",
       "<table border=\"1\" class=\"dataframe\">\n",
       "  <thead>\n",
       "    <tr style=\"text-align: right;\">\n",
       "      <th></th>\n",
       "      <th>id_product</th>\n",
       "      <th>demand</th>\n",
       "      <th>name</th>\n",
       "      <th>brand</th>\n",
       "      <th>price</th>\n",
       "    </tr>\n",
       "  </thead>\n",
       "  <tbody>\n",
       "    <tr>\n",
       "      <th>n1</th>\n",
       "      <td>s1</td>\n",
       "      <td>120</td>\n",
       "      <td>t1</td>\n",
       "      <td>x</td>\n",
       "      <td>200</td>\n",
       "    </tr>\n",
       "    <tr>\n",
       "      <th>n3</th>\n",
       "      <td>s3</td>\n",
       "      <td>30</td>\n",
       "      <td>t3</td>\n",
       "      <td>y</td>\n",
       "      <td>300</td>\n",
       "    </tr>\n",
       "    <tr>\n",
       "      <th>n4</th>\n",
       "      <td>s4</td>\n",
       "      <td>50</td>\n",
       "      <td>t4</td>\n",
       "      <td>z</td>\n",
       "      <td>400</td>\n",
       "    </tr>\n",
       "  </tbody>\n",
       "</table>\n",
       "</div>"
      ],
      "text/plain": [
       "   id_product  demand name brand  price\n",
       "n1         s1     120   t1     x    200\n",
       "n3         s3      30   t3     y    300\n",
       "n4         s4      50   t4     z    400"
      ]
     },
     "execution_count": 36,
     "metadata": {},
     "output_type": "execute_result"
    }
   ],
   "source": [
    "df.loc[df['price']>100,:]"
   ]
  },
  {
   "cell_type": "code",
   "execution_count": 38,
   "id": "88c6891f",
   "metadata": {},
   "outputs": [
    {
     "data": {
      "text/html": [
       "<div>\n",
       "<style scoped>\n",
       "    .dataframe tbody tr th:only-of-type {\n",
       "        vertical-align: middle;\n",
       "    }\n",
       "\n",
       "    .dataframe tbody tr th {\n",
       "        vertical-align: top;\n",
       "    }\n",
       "\n",
       "    .dataframe thead th {\n",
       "        text-align: right;\n",
       "    }\n",
       "</style>\n",
       "<table border=\"1\" class=\"dataframe\">\n",
       "  <thead>\n",
       "    <tr style=\"text-align: right;\">\n",
       "      <th></th>\n",
       "      <th>id_product</th>\n",
       "      <th>demand</th>\n",
       "      <th>name</th>\n",
       "      <th>brand</th>\n",
       "      <th>price</th>\n",
       "    </tr>\n",
       "  </thead>\n",
       "  <tbody>\n",
       "    <tr>\n",
       "      <th>n1</th>\n",
       "      <td>s1</td>\n",
       "      <td>120</td>\n",
       "      <td>t1</td>\n",
       "      <td>x</td>\n",
       "      <td>200</td>\n",
       "    </tr>\n",
       "  </tbody>\n",
       "</table>\n",
       "</div>"
      ],
      "text/plain": [
       "   id_product  demand name brand  price\n",
       "n1         s1     120   t1     x    200"
      ]
     },
     "execution_count": 38,
     "metadata": {},
     "output_type": "execute_result"
    }
   ],
   "source": [
    "df.loc[df['brand']=='x',:]"
   ]
  },
  {
   "cell_type": "code",
   "execution_count": 42,
   "id": "75829481",
   "metadata": {},
   "outputs": [
    {
     "data": {
      "text/html": [
       "<div>\n",
       "<style scoped>\n",
       "    .dataframe tbody tr th:only-of-type {\n",
       "        vertical-align: middle;\n",
       "    }\n",
       "\n",
       "    .dataframe tbody tr th {\n",
       "        vertical-align: top;\n",
       "    }\n",
       "\n",
       "    .dataframe thead th {\n",
       "        text-align: right;\n",
       "    }\n",
       "</style>\n",
       "<table border=\"1\" class=\"dataframe\">\n",
       "  <thead>\n",
       "    <tr style=\"text-align: right;\">\n",
       "      <th></th>\n",
       "      <th>id_product</th>\n",
       "      <th>demand</th>\n",
       "      <th>name</th>\n",
       "      <th>brand</th>\n",
       "      <th>price</th>\n",
       "      <th>rev</th>\n",
       "    </tr>\n",
       "  </thead>\n",
       "  <tbody>\n",
       "    <tr>\n",
       "      <th>n1</th>\n",
       "      <td>s1</td>\n",
       "      <td>120.0</td>\n",
       "      <td>t1</td>\n",
       "      <td>x</td>\n",
       "      <td>200.0</td>\n",
       "      <td>24000.0</td>\n",
       "    </tr>\n",
       "    <tr>\n",
       "      <th>n2</th>\n",
       "      <td>s2</td>\n",
       "      <td>20.0</td>\n",
       "      <td>t2</td>\n",
       "      <td>n</td>\n",
       "      <td>100.0</td>\n",
       "      <td>2000.0</td>\n",
       "    </tr>\n",
       "    <tr>\n",
       "      <th>n3</th>\n",
       "      <td>s3</td>\n",
       "      <td>30.0</td>\n",
       "      <td>t3</td>\n",
       "      <td>y</td>\n",
       "      <td>300.0</td>\n",
       "      <td>9000.0</td>\n",
       "    </tr>\n",
       "    <tr>\n",
       "      <th>n4</th>\n",
       "      <td>s4</td>\n",
       "      <td>50.0</td>\n",
       "      <td>t4</td>\n",
       "      <td>z</td>\n",
       "      <td>400.0</td>\n",
       "      <td>20000.0</td>\n",
       "    </tr>\n",
       "    <tr>\n",
       "      <th>n5</th>\n",
       "      <td>s5</td>\n",
       "      <td>1000.0</td>\n",
       "      <td>t5</td>\n",
       "      <td>zx</td>\n",
       "      <td>500.0</td>\n",
       "      <td>NaN</td>\n",
       "    </tr>\n",
       "  </tbody>\n",
       "</table>\n",
       "</div>"
      ],
      "text/plain": [
       "   id_product  demand name brand  price      rev\n",
       "n1         s1   120.0   t1     x  200.0  24000.0\n",
       "n2         s2    20.0   t2     n  100.0   2000.0\n",
       "n3         s3    30.0   t3     y  300.0   9000.0\n",
       "n4         s4    50.0   t4     z  400.0  20000.0\n",
       "n5         s5  1000.0   t5    zx  500.0      NaN"
      ]
     },
     "execution_count": 42,
     "metadata": {},
     "output_type": "execute_result"
    }
   ],
   "source": [
    "df.loc['n5',:]=pd.Series({'id_product':\"s5\",\n",
    "                         'demand':1000,\n",
    "                         'name':'t5',\n",
    "                         'brand':'zx',\n",
    "                         'price':500})\n",
    "df"
   ]
  },
  {
   "cell_type": "code",
   "execution_count": 41,
   "id": "629d4db3",
   "metadata": {},
   "outputs": [
    {
     "data": {
      "text/html": [
       "<div>\n",
       "<style scoped>\n",
       "    .dataframe tbody tr th:only-of-type {\n",
       "        vertical-align: middle;\n",
       "    }\n",
       "\n",
       "    .dataframe tbody tr th {\n",
       "        vertical-align: top;\n",
       "    }\n",
       "\n",
       "    .dataframe thead th {\n",
       "        text-align: right;\n",
       "    }\n",
       "</style>\n",
       "<table border=\"1\" class=\"dataframe\">\n",
       "  <thead>\n",
       "    <tr style=\"text-align: right;\">\n",
       "      <th></th>\n",
       "      <th>id_product</th>\n",
       "      <th>demand</th>\n",
       "      <th>name</th>\n",
       "      <th>brand</th>\n",
       "      <th>price</th>\n",
       "      <th>rev</th>\n",
       "    </tr>\n",
       "  </thead>\n",
       "  <tbody>\n",
       "    <tr>\n",
       "      <th>n1</th>\n",
       "      <td>s1</td>\n",
       "      <td>120.0</td>\n",
       "      <td>t1</td>\n",
       "      <td>x</td>\n",
       "      <td>200.0</td>\n",
       "      <td>24000.0</td>\n",
       "    </tr>\n",
       "    <tr>\n",
       "      <th>n2</th>\n",
       "      <td>s2</td>\n",
       "      <td>20.0</td>\n",
       "      <td>t2</td>\n",
       "      <td>n</td>\n",
       "      <td>100.0</td>\n",
       "      <td>2000.0</td>\n",
       "    </tr>\n",
       "    <tr>\n",
       "      <th>n3</th>\n",
       "      <td>s3</td>\n",
       "      <td>30.0</td>\n",
       "      <td>t3</td>\n",
       "      <td>y</td>\n",
       "      <td>300.0</td>\n",
       "      <td>9000.0</td>\n",
       "    </tr>\n",
       "    <tr>\n",
       "      <th>n4</th>\n",
       "      <td>s4</td>\n",
       "      <td>50.0</td>\n",
       "      <td>t4</td>\n",
       "      <td>z</td>\n",
       "      <td>400.0</td>\n",
       "      <td>20000.0</td>\n",
       "    </tr>\n",
       "    <tr>\n",
       "      <th>n5</th>\n",
       "      <td>n5</td>\n",
       "      <td>1000.0</td>\n",
       "      <td>t5</td>\n",
       "      <td>zx</td>\n",
       "      <td>500.0</td>\n",
       "      <td>500000.0</td>\n",
       "    </tr>\n",
       "  </tbody>\n",
       "</table>\n",
       "</div>"
      ],
      "text/plain": [
       "   id_product  demand name brand  price       rev\n",
       "n1         s1   120.0   t1     x  200.0   24000.0\n",
       "n2         s2    20.0   t2     n  100.0    2000.0\n",
       "n3         s3    30.0   t3     y  300.0    9000.0\n",
       "n4         s4    50.0   t4     z  400.0   20000.0\n",
       "n5         n5  1000.0   t5    zx  500.0  500000.0"
      ]
     },
     "execution_count": 41,
     "metadata": {},
     "output_type": "execute_result"
    }
   ],
   "source": [
    "df['rev']=df['demand']*df['price']\n",
    "df"
   ]
  },
  {
   "cell_type": "code",
   "execution_count": null,
   "id": "0d6e553a",
   "metadata": {},
   "outputs": [],
   "source": [
    "سوال \n",
    "قیمت محصولاتی که قیمت واحدشون کم تر از 300 باشد\n",
    "5 درصد \n",
    "اضافه کنید \n"
   ]
  },
  {
   "cell_type": "code",
   "execution_count": 44,
   "id": "ad10abbb",
   "metadata": {},
   "outputs": [
    {
     "data": {
      "text/plain": [
       "n1    300.0\n",
       "n2    150.0\n",
       "Name: price, dtype: float64"
      ]
     },
     "execution_count": 44,
     "metadata": {},
     "output_type": "execute_result"
    }
   ],
   "source": [
    "df.loc[df['price']<300,'price']*1.5"
   ]
  },
  {
   "cell_type": "code",
   "execution_count": 45,
   "id": "2f06acee",
   "metadata": {
    "scrolled": true
   },
   "outputs": [
    {
     "data": {
      "text/html": [
       "<div>\n",
       "<style scoped>\n",
       "    .dataframe tbody tr th:only-of-type {\n",
       "        vertical-align: middle;\n",
       "    }\n",
       "\n",
       "    .dataframe tbody tr th {\n",
       "        vertical-align: top;\n",
       "    }\n",
       "\n",
       "    .dataframe thead th {\n",
       "        text-align: right;\n",
       "    }\n",
       "</style>\n",
       "<table border=\"1\" class=\"dataframe\">\n",
       "  <thead>\n",
       "    <tr style=\"text-align: right;\">\n",
       "      <th></th>\n",
       "      <th>id_product</th>\n",
       "      <th>demand</th>\n",
       "      <th>name</th>\n",
       "      <th>brand</th>\n",
       "      <th>price</th>\n",
       "      <th>rev</th>\n",
       "    </tr>\n",
       "  </thead>\n",
       "  <tbody>\n",
       "    <tr>\n",
       "      <th>n1</th>\n",
       "      <td>s1</td>\n",
       "      <td>120.0</td>\n",
       "      <td>t1</td>\n",
       "      <td>x</td>\n",
       "      <td>200.0</td>\n",
       "      <td>24000.0</td>\n",
       "    </tr>\n",
       "    <tr>\n",
       "      <th>n2</th>\n",
       "      <td>s2</td>\n",
       "      <td>20.0</td>\n",
       "      <td>t2</td>\n",
       "      <td>n</td>\n",
       "      <td>100.0</td>\n",
       "      <td>2000.0</td>\n",
       "    </tr>\n",
       "    <tr>\n",
       "      <th>n3</th>\n",
       "      <td>s3</td>\n",
       "      <td>30.0</td>\n",
       "      <td>t3</td>\n",
       "      <td>y</td>\n",
       "      <td>300.0</td>\n",
       "      <td>9000.0</td>\n",
       "    </tr>\n",
       "    <tr>\n",
       "      <th>n4</th>\n",
       "      <td>s4</td>\n",
       "      <td>50.0</td>\n",
       "      <td>t4</td>\n",
       "      <td>z</td>\n",
       "      <td>400.0</td>\n",
       "      <td>20000.0</td>\n",
       "    </tr>\n",
       "    <tr>\n",
       "      <th>n5</th>\n",
       "      <td>s5</td>\n",
       "      <td>1000.0</td>\n",
       "      <td>t5</td>\n",
       "      <td>zx</td>\n",
       "      <td>500.0</td>\n",
       "      <td>NaN</td>\n",
       "    </tr>\n",
       "  </tbody>\n",
       "</table>\n",
       "</div>"
      ],
      "text/plain": [
       "   id_product  demand name brand  price      rev\n",
       "n1         s1   120.0   t1     x  200.0  24000.0\n",
       "n2         s2    20.0   t2     n  100.0   2000.0\n",
       "n3         s3    30.0   t3     y  300.0   9000.0\n",
       "n4         s4    50.0   t4     z  400.0  20000.0\n",
       "n5         s5  1000.0   t5    zx  500.0      NaN"
      ]
     },
     "execution_count": 45,
     "metadata": {},
     "output_type": "execute_result"
    }
   ],
   "source": [
    "df"
   ]
  },
  {
   "cell_type": "code",
   "execution_count": null,
   "id": "28501013",
   "metadata": {},
   "outputs": [],
   "source": [
    "#import data set"
   ]
  },
  {
   "cell_type": "code",
   "execution_count": null,
   "id": "0db3bc76",
   "metadata": {},
   "outputs": [],
   "source": [
    "#اطلاعات دیتا ست "
   ]
  },
  {
   "cell_type": "code",
   "execution_count": 46,
   "id": "8528e02b",
   "metadata": {},
   "outputs": [],
   "source": [
    "data=pd.read_csv('sample_data.csv')"
   ]
  },
  {
   "cell_type": "code",
   "execution_count": null,
   "id": "0d0dc175",
   "metadata": {},
   "outputs": [],
   "source": []
  },
  {
   "cell_type": "code",
   "execution_count": 47,
   "id": "f7b67b1f",
   "metadata": {},
   "outputs": [],
   "source": [
    "import os"
   ]
  },
  {
   "cell_type": "code",
   "execution_count": 49,
   "id": "55b87e28",
   "metadata": {},
   "outputs": [
    {
     "data": {
      "text/plain": [
       "'C:\\\\Users\\\\pc\\\\Desktop'"
      ]
     },
     "execution_count": 49,
     "metadata": {},
     "output_type": "execute_result"
    }
   ],
   "source": [
    "os.getcwd()"
   ]
  },
  {
   "cell_type": "code",
   "execution_count": 50,
   "id": "20a3153e",
   "metadata": {},
   "outputs": [
    {
     "name": "stdout",
     "output_type": "stream",
     "text": [
      "<class 'pandas.core.frame.DataFrame'>\n",
      "RangeIndex: 500 entries, 0 to 499\n",
      "Data columns (total 11 columns):\n",
      " #   Column            Non-Null Count  Dtype  \n",
      "---  ------            --------------  -----  \n",
      " 0   id                500 non-null    int64  \n",
      " 1   sex               500 non-null    object \n",
      " 2   is_employed       435 non-null    object \n",
      " 3   income            493 non-null    float64\n",
      " 4   marital_status    500 non-null    object \n",
      " 5   health_insurance  500 non-null    bool   \n",
      " 6   housing_type      466 non-null    object \n",
      " 7   recent_move       466 non-null    object \n",
      " 8   num_vehicles      466 non-null    float64\n",
      " 9   age               500 non-null    float64\n",
      " 10  state_of_res      500 non-null    object \n",
      "dtypes: bool(1), float64(3), int64(1), object(6)\n",
      "memory usage: 39.7+ KB\n"
     ]
    }
   ],
   "source": [
    "data.info()"
   ]
  },
  {
   "cell_type": "code",
   "execution_count": 53,
   "id": "071e7869",
   "metadata": {},
   "outputs": [
    {
     "data": {
      "text/html": [
       "<div>\n",
       "<style scoped>\n",
       "    .dataframe tbody tr th:only-of-type {\n",
       "        vertical-align: middle;\n",
       "    }\n",
       "\n",
       "    .dataframe tbody tr th {\n",
       "        vertical-align: top;\n",
       "    }\n",
       "\n",
       "    .dataframe thead th {\n",
       "        text-align: right;\n",
       "    }\n",
       "</style>\n",
       "<table border=\"1\" class=\"dataframe\">\n",
       "  <thead>\n",
       "    <tr style=\"text-align: right;\">\n",
       "      <th></th>\n",
       "      <th>id</th>\n",
       "      <th>sex</th>\n",
       "      <th>is_employed</th>\n",
       "      <th>income</th>\n",
       "      <th>marital_status</th>\n",
       "      <th>health_insurance</th>\n",
       "      <th>housing_type</th>\n",
       "      <th>recent_move</th>\n",
       "      <th>num_vehicles</th>\n",
       "      <th>age</th>\n",
       "      <th>state_of_res</th>\n",
       "    </tr>\n",
       "  </thead>\n",
       "  <tbody>\n",
       "    <tr>\n",
       "      <th>0</th>\n",
       "      <td>2068</td>\n",
       "      <td>F</td>\n",
       "      <td>False</td>\n",
       "      <td>11300.0</td>\n",
       "      <td>Married</td>\n",
       "      <td>True</td>\n",
       "      <td>Homeowner free and clear</td>\n",
       "      <td>False</td>\n",
       "      <td>2.0</td>\n",
       "      <td>49.0</td>\n",
       "      <td>Michigan</td>\n",
       "    </tr>\n",
       "    <tr>\n",
       "      <th>1</th>\n",
       "      <td>2073</td>\n",
       "      <td>F</td>\n",
       "      <td>False</td>\n",
       "      <td>0.0</td>\n",
       "      <td>Married</td>\n",
       "      <td>True</td>\n",
       "      <td>Rented</td>\n",
       "      <td>True</td>\n",
       "      <td>3.0</td>\n",
       "      <td>40.0</td>\n",
       "      <td>Florida</td>\n",
       "    </tr>\n",
       "  </tbody>\n",
       "</table>\n",
       "</div>"
      ],
      "text/plain": [
       "     id sex is_employed   income marital_status  health_insurance  \\\n",
       "0  2068   F       False  11300.0        Married              True   \n",
       "1  2073   F       False      0.0        Married              True   \n",
       "\n",
       "               housing_type recent_move  num_vehicles   age state_of_res  \n",
       "0  Homeowner free and clear       False           2.0  49.0     Michigan  \n",
       "1                    Rented        True           3.0  40.0      Florida  "
      ]
     },
     "execution_count": 53,
     "metadata": {},
     "output_type": "execute_result"
    }
   ],
   "source": [
    "data.head(2)"
   ]
  },
  {
   "cell_type": "code",
   "execution_count": 54,
   "id": "1aa92cad",
   "metadata": {},
   "outputs": [
    {
     "data": {
      "text/html": [
       "<div>\n",
       "<style scoped>\n",
       "    .dataframe tbody tr th:only-of-type {\n",
       "        vertical-align: middle;\n",
       "    }\n",
       "\n",
       "    .dataframe tbody tr th {\n",
       "        vertical-align: top;\n",
       "    }\n",
       "\n",
       "    .dataframe thead th {\n",
       "        text-align: right;\n",
       "    }\n",
       "</style>\n",
       "<table border=\"1\" class=\"dataframe\">\n",
       "  <thead>\n",
       "    <tr style=\"text-align: right;\">\n",
       "      <th></th>\n",
       "      <th>id</th>\n",
       "      <th>sex</th>\n",
       "      <th>is_employed</th>\n",
       "      <th>income</th>\n",
       "      <th>marital_status</th>\n",
       "      <th>health_insurance</th>\n",
       "      <th>housing_type</th>\n",
       "      <th>recent_move</th>\n",
       "      <th>num_vehicles</th>\n",
       "      <th>age</th>\n",
       "      <th>state_of_res</th>\n",
       "    </tr>\n",
       "  </thead>\n",
       "  <tbody>\n",
       "    <tr>\n",
       "      <th>497</th>\n",
       "      <td>688736</td>\n",
       "      <td>F</td>\n",
       "      <td>NaN</td>\n",
       "      <td>0.0</td>\n",
       "      <td>Married</td>\n",
       "      <td>True</td>\n",
       "      <td>Rented</td>\n",
       "      <td>False</td>\n",
       "      <td>2.0</td>\n",
       "      <td>34.0</td>\n",
       "      <td>Iowa</td>\n",
       "    </tr>\n",
       "    <tr>\n",
       "      <th>498</th>\n",
       "      <td>692445</td>\n",
       "      <td>M</td>\n",
       "      <td>True</td>\n",
       "      <td>140000.0</td>\n",
       "      <td>Married</td>\n",
       "      <td>True</td>\n",
       "      <td>Homeowner with mortgage/loan</td>\n",
       "      <td>False</td>\n",
       "      <td>5.0</td>\n",
       "      <td>48.0</td>\n",
       "      <td>Illinois</td>\n",
       "    </tr>\n",
       "    <tr>\n",
       "      <th>499</th>\n",
       "      <td>693235</td>\n",
       "      <td>M</td>\n",
       "      <td>True</td>\n",
       "      <td>36200.0</td>\n",
       "      <td>Married</td>\n",
       "      <td>True</td>\n",
       "      <td>Homeowner free and clear</td>\n",
       "      <td>False</td>\n",
       "      <td>2.0</td>\n",
       "      <td>43.0</td>\n",
       "      <td>Michigan</td>\n",
       "    </tr>\n",
       "  </tbody>\n",
       "</table>\n",
       "</div>"
      ],
      "text/plain": [
       "         id sex is_employed    income marital_status  health_insurance  \\\n",
       "497  688736   F         NaN       0.0        Married              True   \n",
       "498  692445   M        True  140000.0        Married              True   \n",
       "499  693235   M        True   36200.0        Married              True   \n",
       "\n",
       "                     housing_type recent_move  num_vehicles   age state_of_res  \n",
       "497                        Rented       False           2.0  34.0         Iowa  \n",
       "498  Homeowner with mortgage/loan       False           5.0  48.0     Illinois  \n",
       "499      Homeowner free and clear       False           2.0  43.0     Michigan  "
      ]
     },
     "execution_count": 54,
     "metadata": {},
     "output_type": "execute_result"
    }
   ],
   "source": [
    "data.tail(3)"
   ]
  },
  {
   "cell_type": "code",
   "execution_count": 55,
   "id": "64e4f98f",
   "metadata": {},
   "outputs": [
    {
     "data": {
      "text/html": [
       "<div>\n",
       "<style scoped>\n",
       "    .dataframe tbody tr th:only-of-type {\n",
       "        vertical-align: middle;\n",
       "    }\n",
       "\n",
       "    .dataframe tbody tr th {\n",
       "        vertical-align: top;\n",
       "    }\n",
       "\n",
       "    .dataframe thead th {\n",
       "        text-align: right;\n",
       "    }\n",
       "</style>\n",
       "<table border=\"1\" class=\"dataframe\">\n",
       "  <thead>\n",
       "    <tr style=\"text-align: right;\">\n",
       "      <th></th>\n",
       "      <th>id</th>\n",
       "      <th>income</th>\n",
       "      <th>num_vehicles</th>\n",
       "      <th>age</th>\n",
       "    </tr>\n",
       "  </thead>\n",
       "  <tbody>\n",
       "    <tr>\n",
       "      <th>count</th>\n",
       "      <td>500.000000</td>\n",
       "      <td>493.000000</td>\n",
       "      <td>466.000000</td>\n",
       "      <td>500.000000</td>\n",
       "    </tr>\n",
       "    <tr>\n",
       "      <th>mean</th>\n",
       "      <td>339421.530000</td>\n",
       "      <td>53899.584178</td>\n",
       "      <td>1.845494</td>\n",
       "      <td>51.919626</td>\n",
       "    </tr>\n",
       "    <tr>\n",
       "      <th>std</th>\n",
       "      <td>203464.742214</td>\n",
       "      <td>64585.040596</td>\n",
       "      <td>1.031624</td>\n",
       "      <td>18.374129</td>\n",
       "    </tr>\n",
       "    <tr>\n",
       "      <th>min</th>\n",
       "      <td>2068.000000</td>\n",
       "      <td>0.000000</td>\n",
       "      <td>0.000000</td>\n",
       "      <td>18.000000</td>\n",
       "    </tr>\n",
       "    <tr>\n",
       "      <th>25%</th>\n",
       "      <td>153033.250000</td>\n",
       "      <td>15500.000000</td>\n",
       "      <td>1.000000</td>\n",
       "      <td>38.000000</td>\n",
       "    </tr>\n",
       "    <tr>\n",
       "      <th>50%</th>\n",
       "      <td>345339.500000</td>\n",
       "      <td>34300.000000</td>\n",
       "      <td>2.000000</td>\n",
       "      <td>49.000000</td>\n",
       "    </tr>\n",
       "    <tr>\n",
       "      <th>75%</th>\n",
       "      <td>513477.750000</td>\n",
       "      <td>70000.000000</td>\n",
       "      <td>2.000000</td>\n",
       "      <td>64.000000</td>\n",
       "    </tr>\n",
       "    <tr>\n",
       "      <th>max</th>\n",
       "      <td>693235.000000</td>\n",
       "      <td>412000.000000</td>\n",
       "      <td>6.000000</td>\n",
       "      <td>137.700030</td>\n",
       "    </tr>\n",
       "  </tbody>\n",
       "</table>\n",
       "</div>"
      ],
      "text/plain": [
       "                  id         income  num_vehicles         age\n",
       "count     500.000000     493.000000    466.000000  500.000000\n",
       "mean   339421.530000   53899.584178      1.845494   51.919626\n",
       "std    203464.742214   64585.040596      1.031624   18.374129\n",
       "min      2068.000000       0.000000      0.000000   18.000000\n",
       "25%    153033.250000   15500.000000      1.000000   38.000000\n",
       "50%    345339.500000   34300.000000      2.000000   49.000000\n",
       "75%    513477.750000   70000.000000      2.000000   64.000000\n",
       "max    693235.000000  412000.000000      6.000000  137.700030"
      ]
     },
     "execution_count": 55,
     "metadata": {},
     "output_type": "execute_result"
    }
   ],
   "source": [
    "data.describe()"
   ]
  },
  {
   "cell_type": "code",
   "execution_count": 57,
   "id": "92e363ab",
   "metadata": {},
   "outputs": [
    {
     "data": {
      "text/plain": [
       "id                   0\n",
       "sex                  0\n",
       "is_employed         65\n",
       "income               7\n",
       "marital_status       0\n",
       "health_insurance     0\n",
       "housing_type        34\n",
       "recent_move         34\n",
       "num_vehicles        34\n",
       "age                  0\n",
       "state_of_res         0\n",
       "dtype: int64"
      ]
     },
     "execution_count": 57,
     "metadata": {},
     "output_type": "execute_result"
    }
   ],
   "source": [
    "#is null\n",
    "np.sum(data.isnull())"
   ]
  },
  {
   "cell_type": "code",
   "execution_count": 60,
   "id": "41974fd4",
   "metadata": {},
   "outputs": [
    {
     "data": {
      "text/plain": [
       "500"
      ]
     },
     "execution_count": 60,
     "metadata": {},
     "output_type": "execute_result"
    }
   ],
   "source": [
    "data['id'].nunique()"
   ]
  },
  {
   "cell_type": "code",
   "execution_count": 63,
   "id": "e1ae8b0d",
   "metadata": {},
   "outputs": [
    {
     "data": {
      "text/plain": [
       "M    274\n",
       "F    226\n",
       "Name: sex, dtype: int64"
      ]
     },
     "execution_count": 63,
     "metadata": {},
     "output_type": "execute_result"
    }
   ],
   "source": [
    "#sex\n",
    "data['sex'].value_counts()"
   ]
  },
  {
   "cell_type": "code",
   "execution_count": 64,
   "id": "c25144fc",
   "metadata": {},
   "outputs": [
    {
     "data": {
      "text/plain": [
       "True     331\n",
       "False    104\n",
       "Name: is_employed, dtype: int64"
      ]
     },
     "execution_count": 64,
     "metadata": {},
     "output_type": "execute_result"
    }
   ],
   "source": [
    "#is_employed\n",
    "data['is_employed'].value_counts()"
   ]
  },
  {
   "cell_type": "markdown",
   "id": "c237fe2b",
   "metadata": {},
   "source": [
    "اطلاعات مربوط به ستون درامد وسن مشتریان خانم"
   ]
  },
  {
   "cell_type": "code",
   "execution_count": 67,
   "id": "13089b25",
   "metadata": {},
   "outputs": [
    {
     "data": {
      "text/html": [
       "<div>\n",
       "<style scoped>\n",
       "    .dataframe tbody tr th:only-of-type {\n",
       "        vertical-align: middle;\n",
       "    }\n",
       "\n",
       "    .dataframe tbody tr th {\n",
       "        vertical-align: top;\n",
       "    }\n",
       "\n",
       "    .dataframe thead th {\n",
       "        text-align: right;\n",
       "    }\n",
       "</style>\n",
       "<table border=\"1\" class=\"dataframe\">\n",
       "  <thead>\n",
       "    <tr style=\"text-align: right;\">\n",
       "      <th></th>\n",
       "      <th>age</th>\n",
       "      <th>income</th>\n",
       "    </tr>\n",
       "  </thead>\n",
       "  <tbody>\n",
       "    <tr>\n",
       "      <th>2</th>\n",
       "      <td>29.0</td>\n",
       "      <td>45000.0</td>\n",
       "    </tr>\n",
       "    <tr>\n",
       "      <th>3</th>\n",
       "      <td>22.0</td>\n",
       "      <td>20000.0</td>\n",
       "    </tr>\n",
       "    <tr>\n",
       "      <th>6</th>\n",
       "      <td>39.0</td>\n",
       "      <td>120000.0</td>\n",
       "    </tr>\n",
       "    <tr>\n",
       "      <th>7</th>\n",
       "      <td>48.0</td>\n",
       "      <td>40000.0</td>\n",
       "    </tr>\n",
       "    <tr>\n",
       "      <th>8</th>\n",
       "      <td>44.0</td>\n",
       "      <td>54000.0</td>\n",
       "    </tr>\n",
       "    <tr>\n",
       "      <th>...</th>\n",
       "      <td>...</td>\n",
       "      <td>...</td>\n",
       "    </tr>\n",
       "    <tr>\n",
       "      <th>493</th>\n",
       "      <td>63.0</td>\n",
       "      <td>12600.0</td>\n",
       "    </tr>\n",
       "    <tr>\n",
       "      <th>494</th>\n",
       "      <td>45.0</td>\n",
       "      <td>16000.0</td>\n",
       "    </tr>\n",
       "    <tr>\n",
       "      <th>496</th>\n",
       "      <td>22.0</td>\n",
       "      <td>48000.0</td>\n",
       "    </tr>\n",
       "    <tr>\n",
       "      <th>498</th>\n",
       "      <td>48.0</td>\n",
       "      <td>140000.0</td>\n",
       "    </tr>\n",
       "    <tr>\n",
       "      <th>499</th>\n",
       "      <td>43.0</td>\n",
       "      <td>36200.0</td>\n",
       "    </tr>\n",
       "  </tbody>\n",
       "</table>\n",
       "<p>274 rows × 2 columns</p>\n",
       "</div>"
      ],
      "text/plain": [
       "      age    income\n",
       "2    29.0   45000.0\n",
       "3    22.0   20000.0\n",
       "6    39.0  120000.0\n",
       "7    48.0   40000.0\n",
       "8    44.0   54000.0\n",
       "..    ...       ...\n",
       "493  63.0   12600.0\n",
       "494  45.0   16000.0\n",
       "496  22.0   48000.0\n",
       "498  48.0  140000.0\n",
       "499  43.0   36200.0\n",
       "\n",
       "[274 rows x 2 columns]"
      ]
     },
     "execution_count": 67,
     "metadata": {},
     "output_type": "execute_result"
    }
   ],
   "source": [
    "data.loc[data['sex']=='M',['age','income']]"
   ]
  },
  {
   "cell_type": "markdown",
   "id": "7188855b",
   "metadata": {},
   "source": [
    "چند درصد مشتریان خانم هستند "
   ]
  },
  {
   "cell_type": "code",
   "execution_count": 68,
   "id": "f8cf5b63",
   "metadata": {},
   "outputs": [
    {
     "data": {
      "text/plain": [
       "(500, 11)"
      ]
     },
     "execution_count": 68,
     "metadata": {},
     "output_type": "execute_result"
    }
   ],
   "source": [
    "data.shape"
   ]
  },
  {
   "cell_type": "code",
   "execution_count": 74,
   "id": "747e5fa3",
   "metadata": {},
   "outputs": [
    {
     "data": {
      "text/plain": [
       "45.2"
      ]
     },
     "execution_count": 74,
     "metadata": {},
     "output_type": "execute_result"
    }
   ],
   "source": [
    "np.sum(data['sex']=='F')*100/data.shape[0]"
   ]
  },
  {
   "cell_type": "code",
   "execution_count": 75,
   "id": "871c9c89",
   "metadata": {},
   "outputs": [
    {
     "data": {
      "text/plain": [
       "F    45.2\n",
       "Name: sex, dtype: float64"
      ]
     },
     "execution_count": 75,
     "metadata": {},
     "output_type": "execute_result"
    }
   ],
   "source": [
    "data.loc[data['sex']=='F','sex'].value_counts()*100/data.shape[0]\n"
   ]
  },
  {
   "cell_type": "code",
   "execution_count": 85,
   "id": "eee4e4f1",
   "metadata": {},
   "outputs": [
    {
     "data": {
      "text/plain": [
       "True     False\n",
       "False    False\n",
       "Name: is_employed, dtype: bool"
      ]
     },
     "execution_count": 85,
     "metadata": {},
     "output_type": "execute_result"
    }
   ],
   "source": [
    "#is_employed\n",
    "data['is_employed'].value_counts()"
   ]
  },
  {
   "cell_type": "code",
   "execution_count": 77,
   "id": "c2cae3ae",
   "metadata": {},
   "outputs": [
    {
     "data": {
      "text/plain": [
       "65"
      ]
     },
     "execution_count": 77,
     "metadata": {},
     "output_type": "execute_result"
    }
   ],
   "source": [
    "np.sum(data['is_employed'].isnull())"
   ]
  },
  {
   "cell_type": "code",
   "execution_count": 80,
   "id": "4ea4238d",
   "metadata": {},
   "outputs": [
    {
     "data": {
      "text/plain": [
       "435"
      ]
     },
     "execution_count": 80,
     "metadata": {},
     "output_type": "execute_result"
    }
   ],
   "source": [
    "np.sum(data['is_employed'].notnull())"
   ]
  },
  {
   "cell_type": "code",
   "execution_count": 84,
   "id": "4f0504e0",
   "metadata": {},
   "outputs": [
    {
     "data": {
      "text/plain": [
       "76.0919540229885"
      ]
     },
     "execution_count": 84,
     "metadata": {},
     "output_type": "execute_result"
    }
   ],
   "source": [
    "np.sum(data[\"is_employed\"]==True)/np.sum(data['is_employed'].notnull())*100"
   ]
  },
  {
   "cell_type": "code",
   "execution_count": 88,
   "id": "35b29e02",
   "metadata": {},
   "outputs": [
    {
     "data": {
      "text/plain": [
       "76.0"
      ]
     },
     "execution_count": 88,
     "metadata": {},
     "output_type": "execute_result"
    }
   ],
   "source": [
    "np.round(np.sum(data[\"is_employed\"]==True)/np.sum(data['is_employed'].notnull())*100)"
   ]
  },
  {
   "cell_type": "code",
   "execution_count": 92,
   "id": "f270c9e1",
   "metadata": {},
   "outputs": [
    {
     "data": {
      "text/plain": [
       "count       493.000000\n",
       "mean      53899.584178\n",
       "std       64585.040596\n",
       "min           0.000000\n",
       "25%       15500.000000\n",
       "50%       34300.000000\n",
       "75%       70000.000000\n",
       "max      412000.000000\n",
       "Name: income, dtype: float64"
      ]
     },
     "execution_count": 92,
     "metadata": {},
     "output_type": "execute_result"
    }
   ],
   "source": [
    "#income\n",
    "data['income'].describe()"
   ]
  },
  {
   "cell_type": "code",
   "execution_count": 96,
   "id": "e55839a3",
   "metadata": {},
   "outputs": [
    {
     "data": {
      "text/plain": [
       "1.0"
      ]
     },
     "execution_count": 96,
     "metadata": {},
     "output_type": "execute_result"
    }
   ],
   "source": [
    "np.round(np.sum(data['income'].isnull())/data.shape[0]*100)"
   ]
  },
  {
   "cell_type": "code",
   "execution_count": 97,
   "id": "8947e2f7",
   "metadata": {},
   "outputs": [
    {
     "data": {
      "text/plain": [
       "9.0"
      ]
     },
     "execution_count": 97,
     "metadata": {},
     "output_type": "execute_result"
    }
   ],
   "source": [
    "np.round(np.sum(data['income']==0)/data.shape[0]*100)"
   ]
  },
  {
   "cell_type": "code",
   "execution_count": 98,
   "id": "8f6a35ee",
   "metadata": {},
   "outputs": [
    {
     "data": {
      "text/plain": [
       "count    500.000000\n",
       "mean      51.919626\n",
       "std       18.374129\n",
       "min       18.000000\n",
       "25%       38.000000\n",
       "50%       49.000000\n",
       "75%       64.000000\n",
       "max      137.700030\n",
       "Name: age, dtype: float64"
      ]
     },
     "execution_count": 98,
     "metadata": {},
     "output_type": "execute_result"
    }
   ],
   "source": [
    "#age\n",
    "data['age'].describe()"
   ]
  },
  {
   "cell_type": "code",
   "execution_count": 101,
   "id": "1f59220c",
   "metadata": {
    "scrolled": true
   },
   "outputs": [
    {
     "data": {
      "text/html": [
       "<div>\n",
       "<style scoped>\n",
       "    .dataframe tbody tr th:only-of-type {\n",
       "        vertical-align: middle;\n",
       "    }\n",
       "\n",
       "    .dataframe tbody tr th {\n",
       "        vertical-align: top;\n",
       "    }\n",
       "\n",
       "    .dataframe thead th {\n",
       "        text-align: right;\n",
       "    }\n",
       "</style>\n",
       "<table border=\"1\" class=\"dataframe\">\n",
       "  <thead>\n",
       "    <tr style=\"text-align: right;\">\n",
       "      <th></th>\n",
       "      <th>id</th>\n",
       "      <th>sex</th>\n",
       "      <th>is_employed</th>\n",
       "      <th>income</th>\n",
       "      <th>marital_status</th>\n",
       "      <th>health_insurance</th>\n",
       "      <th>housing_type</th>\n",
       "      <th>recent_move</th>\n",
       "      <th>num_vehicles</th>\n",
       "      <th>age</th>\n",
       "      <th>state_of_res</th>\n",
       "    </tr>\n",
       "  </thead>\n",
       "  <tbody>\n",
       "    <tr>\n",
       "      <th>212</th>\n",
       "      <td>287882</td>\n",
       "      <td>M</td>\n",
       "      <td>True</td>\n",
       "      <td>60000.0</td>\n",
       "      <td>Married</td>\n",
       "      <td>True</td>\n",
       "      <td>Rented</td>\n",
       "      <td>True</td>\n",
       "      <td>2.0</td>\n",
       "      <td>137.700030</td>\n",
       "      <td>Florida</td>\n",
       "    </tr>\n",
       "    <tr>\n",
       "      <th>266</th>\n",
       "      <td>364991</td>\n",
       "      <td>F</td>\n",
       "      <td>NaN</td>\n",
       "      <td>12000.0</td>\n",
       "      <td>Divorced/Separated</td>\n",
       "      <td>True</td>\n",
       "      <td>Homeowner with mortgage/loan</td>\n",
       "      <td>False</td>\n",
       "      <td>1.0</td>\n",
       "      <td>123.061023</td>\n",
       "      <td>Nevada</td>\n",
       "    </tr>\n",
       "    <tr>\n",
       "      <th>286</th>\n",
       "      <td>397230</td>\n",
       "      <td>F</td>\n",
       "      <td>True</td>\n",
       "      <td>31200.0</td>\n",
       "      <td>Married</td>\n",
       "      <td>True</td>\n",
       "      <td>Rented</td>\n",
       "      <td>False</td>\n",
       "      <td>2.0</td>\n",
       "      <td>136.052160</td>\n",
       "      <td>Texas</td>\n",
       "    </tr>\n",
       "  </tbody>\n",
       "</table>\n",
       "</div>"
      ],
      "text/plain": [
       "         id sex is_employed   income      marital_status  health_insurance  \\\n",
       "212  287882   M        True  60000.0             Married              True   \n",
       "266  364991   F         NaN  12000.0  Divorced/Separated              True   \n",
       "286  397230   F        True  31200.0             Married              True   \n",
       "\n",
       "                     housing_type recent_move  num_vehicles         age  \\\n",
       "212                        Rented        True           2.0  137.700030   \n",
       "266  Homeowner with mortgage/loan       False           1.0  123.061023   \n",
       "286                        Rented       False           2.0  136.052160   \n",
       "\n",
       "    state_of_res  \n",
       "212      Florida  \n",
       "266       Nevada  \n",
       "286        Texas  "
      ]
     },
     "execution_count": 101,
     "metadata": {},
     "output_type": "execute_result"
    }
   ],
   "source": [
    "data.loc[data['age']>100,:]"
   ]
  },
  {
   "cell_type": "code",
   "execution_count": 108,
   "id": "a799de2b",
   "metadata": {},
   "outputs": [
    {
     "data": {
      "text/plain": [
       "(array([283., 114.,  48.,  23.,   9.,   3.,   5.,   1.,   0.,   7.]),\n",
       " array([     0.,  41200.,  82400., 123600., 164800., 206000., 247200.,\n",
       "        288400., 329600., 370800., 412000.]),\n",
       " <BarContainer object of 10 artists>)"
      ]
     },
     "execution_count": 108,
     "metadata": {},
     "output_type": "execute_result"
    },
    {
     "data": {
      "image/png": "[encoded data removed]",
      "text/plain": [
       "<Figure size 432x288 with 1 Axes>"
      ]
     },
     "metadata": {
      "needs_background": "light"
     },
     "output_type": "display_data"
    }
   ],
   "source": [
    "plt.hist(data['income'])"
   ]
  },
  {
   "cell_type": "markdown",
   "id": "5096193e",
   "metadata": {},
   "source": [
    "Assignment\n",
    "\n",
    "\n",
    "Q1: Create a dataframe which contains information of a company's products:\n",
    "\n",
    "prod_name price monthly_demand brand\n",
    "\n",
    "g1 45 1200 z\n",
    "\n",
    "g2 25 2500 x\n",
    "\n",
    "c1 75 200 x\n",
    "\n",
    "c2 35 1850 y\n",
    "\n",
    "c3 89 120 z\n",
    "\n",
    "f1 20 3500 y\n",
    "\n",
    "f2 55 545 z\n",
    "\n",
    "a: Add a column to calculate monthly revenue of each product\n",
    "\n",
    "b: Calculate total monthly revenue generated by brand z\n",
    "\n",
    "c: Create a column called revenue share which includes monthly revenue share of each product\n",
    "\n",
    "d: Which brand does have the largest revenue share? Q2: Consider CRM dataset and answer these questions:\n",
    "\n",
    "a: Extract data of married customers with income above average.\n",
    "\n",
    "b: What percentag of female customers are below 26?\n",
    "\n",
    "c: What percentage of female customers above 30 are employed?\n",
    "\n",
    "d: What percentage of cutomers who have health insurance are employed with income above average income?\n",
    "\n",
    "e: What percentage of cutomers who have health insurance are married males?\n",
    "\n",
    "f: What percentage of married customers have health insurance?\n",
    "\n",
    "g: Identify our top customers? (income > average , homeowner, and own at least one vehicle) End of Code\n",
    "\n"
   ]
  },
  {
   "cell_type": "code",
   "execution_count": null,
   "id": "16395b4d",
   "metadata": {},
   "outputs": [],
   "source": []
  }
 ],
 "metadata": {
  "kernelspec": {
   "display_name": "Python 3 (ipykernel)",
   "language": "python",
   "name": "python3"
  },
  "language_info": {
   "codemirror_mode": {
    "name": "ipython",
    "version": 3
   },
   "file_extension": ".py",
   "mimetype": "text/x-python",
   "name": "python",
   "nbconvert_exporter": "python",
   "pygments_lexer": "ipython3",
   "version": "3.9.12"
  }
 },
 "nbformat": 4,
 "nbformat_minor": 5
}
