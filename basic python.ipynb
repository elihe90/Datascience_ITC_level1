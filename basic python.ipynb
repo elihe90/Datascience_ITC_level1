{
 "cells": [
  {
   "cell_type": "markdown",
   "id": "9ae5fbd0",
   "metadata": {},
   "source": [
    "# Python Basics\n",
    "## By elham heidari"
   ]
  },
  {
   "cell_type": "markdown",
   "id": "8a8abcb3",
   "metadata": {},
   "source": [
    "Note: Python is a case-sensitive language."
   ]
  },
  {
   "cell_type": "code",
   "execution_count": 1,
   "id": "7bd8ff1e",
   "metadata": {},
   "outputs": [
    {
     "data": {
      "text/plain": [
       "22"
      ]
     },
     "execution_count": 1,
     "metadata": {},
     "output_type": "execute_result"
    }
   ],
   "source": [
    "10+12"
   ]
  },
  {
   "cell_type": "markdown",
   "id": "c58a7f1d",
   "metadata": {},
   "source": [
    "Some Useful Keyboard Shortcuts:\n",
    "\n",
    "Run Cell: Ctrl + enter\n",
    "\n",
    "Create new cell: Esc + a (above), Esc + b (below)\n",
    "\n",
    "Run Cell and creat new cell: Ctrl + shift\n",
    "\n",
    "Copy Cell: Ctrl + c\n",
    "\n",
    "Paste Cell: Ctrl + v\n",
    "\n",
    "Save notebook: Esc + s\n",
    "\n",
    "Auto-completion: Tab while writing code\n",
    "\n",
    "Help: Shift + Tab"
   ]
  },
  {
   "cell_type": "code",
   "execution_count": 2,
   "id": "2f9adb13",
   "metadata": {},
   "outputs": [],
   "source": [
    "x=100#assignment"
   ]
  },
  {
   "cell_type": "code",
   "execution_count": 3,
   "id": "d0a5e864",
   "metadata": {},
   "outputs": [
    {
     "data": {
      "text/plain": [
       "100"
      ]
     },
     "execution_count": 3,
     "metadata": {},
     "output_type": "execute_result"
    }
   ],
   "source": [
    "x"
   ]
  },
  {
   "cell_type": "markdown",
   "id": "bf041776",
   "metadata": {},
   "source": [
    "*** Rules for writing identifiers in Python:\n",
    "\n",
    "Identifiers can be a combination of letters in lowercase (a to z) or uppercase (A to Z) or digits (0 to 9) or an underscore _.\n",
    "\n",
    "An identifier cannot start with a digit.\n",
    "\n",
    "Keywords words cannot be used as identifiers, such as: False, elif, None, else, nonlocal, lambda, True, except, not, and, finally, or, as, for, pass, assert, from, raise, break, global, return, class, if, try, continue, import, while, def, in, with, del, is, yield.\n",
    "\n",
    "Valid or invalid identifiers in Python?\n",
    "\n",
    "c001, tot@l, 5um, _cost, daily.demand, True, u_200"
   ]
  },
  {
   "cell_type": "code",
   "execution_count": 5,
   "id": "964a2e2a",
   "metadata": {},
   "outputs": [
    {
     "ename": "SyntaxError",
     "evalue": "invalid syntax (1118390202.py, line 1)",
     "output_type": "error",
     "traceback": [
      "\u001b[1;36m  Input \u001b[1;32mIn [5]\u001b[1;36m\u001b[0m\n\u001b[1;33m    if=10#error\u001b[0m\n\u001b[1;37m      ^\u001b[0m\n\u001b[1;31mSyntaxError\u001b[0m\u001b[1;31m:\u001b[0m invalid syntax\n"
     ]
    }
   ],
   "source": [
    "if=10#error"
   ]
  },
  {
   "cell_type": "markdown",
   "id": "cefe0d39",
   "metadata": {},
   "source": [
    "# data type\n",
    "number\n",
    "float"
   ]
  },
  {
   "cell_type": "code",
   "execution_count": null,
   "id": "b3256a07",
   "metadata": {},
   "outputs": [],
   "source": [
    "x=10 #int"
   ]
  },
  {
   "cell_type": "code",
   "execution_count": 13,
   "id": "3efecdf6",
   "metadata": {},
   "outputs": [],
   "source": [
    "y=12.3#float"
   ]
  },
  {
   "cell_type": "code",
   "execution_count": 7,
   "id": "3b7ab059",
   "metadata": {},
   "outputs": [
    {
     "data": {
      "text/plain": [
       "int"
      ]
     },
     "execution_count": 7,
     "metadata": {},
     "output_type": "execute_result"
    }
   ],
   "source": [
    "type(x)"
   ]
  },
  {
   "cell_type": "code",
   "execution_count": 14,
   "id": "63c6d1e7",
   "metadata": {},
   "outputs": [
    {
     "data": {
      "text/plain": [
       "float"
      ]
     },
     "execution_count": 14,
     "metadata": {},
     "output_type": "execute_result"
    }
   ],
   "source": [
    "type(y)"
   ]
  },
  {
   "cell_type": "markdown",
   "id": "529698e4",
   "metadata": {},
   "source": [
    "# Strings"
   ]
  },
  {
   "cell_type": "code",
   "execution_count": 15,
   "id": "6a30b0f4",
   "metadata": {},
   "outputs": [
    {
     "data": {
      "text/plain": [
       "'xyz'"
      ]
     },
     "execution_count": 15,
     "metadata": {},
     "output_type": "execute_result"
    }
   ],
   "source": [
    "'xyz'"
   ]
  },
  {
   "cell_type": "code",
   "execution_count": 16,
   "id": "88d27191",
   "metadata": {},
   "outputs": [
    {
     "data": {
      "text/plain": [
       "str"
      ]
     },
     "execution_count": 16,
     "metadata": {},
     "output_type": "execute_result"
    }
   ],
   "source": [
    "type('xyz')"
   ]
  },
  {
   "cell_type": "code",
   "execution_count": 17,
   "id": "74eea8ad",
   "metadata": {},
   "outputs": [
    {
     "ename": "TypeError",
     "evalue": "can only concatenate str (not \"int\") to str",
     "output_type": "error",
     "traceback": [
      "\u001b[1;31m---------------------------------------------------------------------------\u001b[0m",
      "\u001b[1;31mTypeError\u001b[0m                                 Traceback (most recent call last)",
      "Input \u001b[1;32mIn [17]\u001b[0m, in \u001b[0;36m<cell line: 1>\u001b[1;34m()\u001b[0m\n\u001b[1;32m----> 1\u001b[0m \u001b[38;5;124;43m'\u001b[39;49m\u001b[38;5;124;43m1\u001b[39;49m\u001b[38;5;124;43m'\u001b[39;49m\u001b[38;5;241;43m+\u001b[39;49m\u001b[38;5;241;43m3\u001b[39;49m\n",
      "\u001b[1;31mTypeError\u001b[0m: can only concatenate str (not \"int\") to str"
     ]
    }
   ],
   "source": [
    "'1'+3"
   ]
  },
  {
   "cell_type": "markdown",
   "id": "29d3d519",
   "metadata": {},
   "source": [
    "# operators"
   ]
  },
  {
   "cell_type": "markdown",
   "id": "cec0e6de",
   "metadata": {},
   "source": [
    "Arithmetic Operators"
   ]
  },
  {
   "cell_type": "code",
   "execution_count": 19,
   "id": "5d0bac9d",
   "metadata": {},
   "outputs": [],
   "source": [
    "x=10\n",
    "y=20"
   ]
  },
  {
   "cell_type": "code",
   "execution_count": 20,
   "id": "4aa51bd0",
   "metadata": {},
   "outputs": [
    {
     "data": {
      "text/plain": [
       "30"
      ]
     },
     "execution_count": 20,
     "metadata": {},
     "output_type": "execute_result"
    }
   ],
   "source": [
    "x+y"
   ]
  },
  {
   "cell_type": "code",
   "execution_count": 21,
   "id": "90b5d2ea",
   "metadata": {},
   "outputs": [
    {
     "data": {
      "text/plain": [
       "-10"
      ]
     },
     "execution_count": 21,
     "metadata": {},
     "output_type": "execute_result"
    }
   ],
   "source": [
    "x-y"
   ]
  },
  {
   "cell_type": "code",
   "execution_count": 22,
   "id": "f67c70b4",
   "metadata": {},
   "outputs": [
    {
     "data": {
      "text/plain": [
       "200"
      ]
     },
     "execution_count": 22,
     "metadata": {},
     "output_type": "execute_result"
    }
   ],
   "source": [
    "x*y"
   ]
  },
  {
   "cell_type": "code",
   "execution_count": 23,
   "id": "a2b9e4a0",
   "metadata": {},
   "outputs": [
    {
     "data": {
      "text/plain": [
       "0.5"
      ]
     },
     "execution_count": 23,
     "metadata": {},
     "output_type": "execute_result"
    }
   ],
   "source": [
    "x/y"
   ]
  },
  {
   "cell_type": "code",
   "execution_count": 24,
   "id": "22930913",
   "metadata": {},
   "outputs": [
    {
     "data": {
      "text/plain": [
       "100000000000000000000"
      ]
     },
     "execution_count": 24,
     "metadata": {},
     "output_type": "execute_result"
    }
   ],
   "source": [
    "x**y"
   ]
  },
  {
   "cell_type": "code",
   "execution_count": 25,
   "id": "0838e814",
   "metadata": {},
   "outputs": [
    {
     "data": {
      "text/plain": [
       "0"
      ]
     },
     "execution_count": 25,
     "metadata": {},
     "output_type": "execute_result"
    }
   ],
   "source": [
    "x//y"
   ]
  },
  {
   "cell_type": "code",
   "execution_count": 26,
   "id": "2601a531",
   "metadata": {},
   "outputs": [
    {
     "data": {
      "text/plain": [
       "10"
      ]
     },
     "execution_count": 26,
     "metadata": {},
     "output_type": "execute_result"
    }
   ],
   "source": [
    "x%y"
   ]
  },
  {
   "cell_type": "markdown",
   "id": "a53b9780",
   "metadata": {},
   "source": [
    "Operator Precedence"
   ]
  },
  {
   "cell_type": "code",
   "execution_count": 27,
   "id": "ae6116c1",
   "metadata": {},
   "outputs": [
    {
     "data": {
      "text/plain": [
       "16.0"
      ]
     },
     "execution_count": 27,
     "metadata": {},
     "output_type": "execute_result"
    }
   ],
   "source": [
    "12 + 20 /5"
   ]
  },
  {
   "cell_type": "markdown",
   "id": "92b9ad3e",
   "metadata": {},
   "source": [
    "# Comparison Operators"
   ]
  },
  {
   "cell_type": "code",
   "execution_count": 28,
   "id": "13f0d37e",
   "metadata": {},
   "outputs": [
    {
     "data": {
      "text/plain": [
       "True"
      ]
     },
     "execution_count": 28,
     "metadata": {},
     "output_type": "execute_result"
    }
   ],
   "source": [
    "x!=6"
   ]
  },
  {
   "cell_type": "code",
   "execution_count": 29,
   "id": "b7b8ea10",
   "metadata": {},
   "outputs": [
    {
     "data": {
      "text/plain": [
       "False"
      ]
     },
     "execution_count": 29,
     "metadata": {},
     "output_type": "execute_result"
    }
   ],
   "source": [
    "x<10"
   ]
  },
  {
   "cell_type": "markdown",
   "id": "84a86f0d",
   "metadata": {},
   "source": [
    "# Assignment Operators"
   ]
  },
  {
   "cell_type": "code",
   "execution_count": 32,
   "id": "25275920",
   "metadata": {},
   "outputs": [
    {
     "data": {
      "text/plain": [
       "1"
      ]
     },
     "execution_count": 32,
     "metadata": {},
     "output_type": "execute_result"
    }
   ],
   "source": [
    "b=2\n",
    "b-=1\n",
    "b"
   ]
  },
  {
   "cell_type": "code",
   "execution_count": 34,
   "id": "1dda7a69",
   "metadata": {},
   "outputs": [
    {
     "data": {
      "text/plain": [
       "9"
      ]
     },
     "execution_count": 34,
     "metadata": {},
     "output_type": "execute_result"
    }
   ],
   "source": [
    "b*=3\n",
    "b"
   ]
  },
  {
   "cell_type": "markdown",
   "id": "9e229b57",
   "metadata": {},
   "source": [
    "# Logical Operators"
   ]
  },
  {
   "cell_type": "code",
   "execution_count": 35,
   "id": "841628ee",
   "metadata": {},
   "outputs": [
    {
     "data": {
      "text/plain": [
       "False"
      ]
     },
     "execution_count": 35,
     "metadata": {},
     "output_type": "execute_result"
    }
   ],
   "source": [
    "not(True)"
   ]
  },
  {
   "cell_type": "code",
   "execution_count": 36,
   "id": "5d4e536d",
   "metadata": {},
   "outputs": [
    {
     "data": {
      "text/plain": [
       "False"
      ]
     },
     "execution_count": 36,
     "metadata": {},
     "output_type": "execute_result"
    }
   ],
   "source": [
    "True and False"
   ]
  },
  {
   "cell_type": "code",
   "execution_count": 37,
   "id": "c983612c",
   "metadata": {},
   "outputs": [
    {
     "data": {
      "text/plain": [
       "False"
      ]
     },
     "execution_count": 37,
     "metadata": {},
     "output_type": "execute_result"
    }
   ],
   "source": [
    "False and False"
   ]
  },
  {
   "cell_type": "code",
   "execution_count": 38,
   "id": "efae22f9",
   "metadata": {},
   "outputs": [
    {
     "data": {
      "text/plain": [
       "True"
      ]
     },
     "execution_count": 38,
     "metadata": {},
     "output_type": "execute_result"
    }
   ],
   "source": [
    "True or False"
   ]
  },
  {
   "cell_type": "code",
   "execution_count": 39,
   "id": "28af1433",
   "metadata": {},
   "outputs": [
    {
     "data": {
      "text/plain": [
       "False"
      ]
     },
     "execution_count": 39,
     "metadata": {},
     "output_type": "execute_result"
    }
   ],
   "source": [
    "(x > 0) and (y < -1)"
   ]
  },
  {
   "cell_type": "markdown",
   "id": "03e53bbd",
   "metadata": {},
   "source": [
    "# Lists\n",
    "Lists are ordered sequences that can hold a variety of object types."
   ]
  },
  {
   "cell_type": "code",
   "execution_count": 40,
   "id": "40c998a2",
   "metadata": {},
   "outputs": [
    {
     "data": {
      "text/plain": [
       "[10, 2, 3.1, True, 'ac', 'c']"
      ]
     },
     "execution_count": 40,
     "metadata": {},
     "output_type": "execute_result"
    }
   ],
   "source": [
    "l1=[10,2,3.1,True,'ac','c']\n",
    "l1"
   ]
  },
  {
   "cell_type": "code",
   "execution_count": 41,
   "id": "8df49146",
   "metadata": {},
   "outputs": [
    {
     "data": {
      "text/plain": [
       "list"
      ]
     },
     "execution_count": 41,
     "metadata": {},
     "output_type": "execute_result"
    }
   ],
   "source": [
    "type(l1)"
   ]
  },
  {
   "cell_type": "code",
   "execution_count": 42,
   "id": "bfd539e6",
   "metadata": {},
   "outputs": [
    {
     "data": {
      "text/plain": [
       "6"
      ]
     },
     "execution_count": 42,
     "metadata": {},
     "output_type": "execute_result"
    }
   ],
   "source": [
    "len(l1)"
   ]
  },
  {
   "cell_type": "code",
   "execution_count": 44,
   "id": "40f603f0",
   "metadata": {},
   "outputs": [
    {
     "data": {
      "text/plain": [
       "10"
      ]
     },
     "execution_count": 44,
     "metadata": {},
     "output_type": "execute_result"
    }
   ],
   "source": [
    "l1[0]\n"
   ]
  },
  {
   "cell_type": "code",
   "execution_count": 45,
   "id": "01c8b80c",
   "metadata": {},
   "outputs": [
    {
     "data": {
      "text/plain": [
       "'c'"
      ]
     },
     "execution_count": 45,
     "metadata": {},
     "output_type": "execute_result"
    }
   ],
   "source": [
    "l1[-1]"
   ]
  },
  {
   "cell_type": "code",
   "execution_count": 46,
   "id": "ab6c7e4b",
   "metadata": {},
   "outputs": [
    {
     "data": {
      "text/plain": [
       "[3.1, True, 'ac']"
      ]
     },
     "execution_count": 46,
     "metadata": {},
     "output_type": "execute_result"
    }
   ],
   "source": [
    "l1[2:5]"
   ]
  },
  {
   "cell_type": "code",
   "execution_count": 47,
   "id": "35cbe4c9",
   "metadata": {},
   "outputs": [
    {
     "data": {
      "text/plain": [
       "5"
      ]
     },
     "execution_count": 47,
     "metadata": {},
     "output_type": "execute_result"
    }
   ],
   "source": [
    "#Method\n",
    "l1.index('c')"
   ]
  },
  {
   "cell_type": "code",
   "execution_count": 49,
   "id": "530c5afc",
   "metadata": {},
   "outputs": [
    {
     "data": {
      "text/plain": [
       "[10, 2, -100, -100, 3.1, True, 'ac', 'c']"
      ]
     },
     "execution_count": 49,
     "metadata": {},
     "output_type": "execute_result"
    }
   ],
   "source": [
    "l1.insert(2,-100)\n",
    "l1"
   ]
  },
  {
   "cell_type": "code",
   "execution_count": 50,
   "id": "4fdf8f78",
   "metadata": {},
   "outputs": [
    {
     "data": {
      "text/plain": [
       "[10, 2, -100, -100, 3.1, True, 'ac', 'c', 20]"
      ]
     },
     "execution_count": 50,
     "metadata": {},
     "output_type": "execute_result"
    }
   ],
   "source": [
    "l1.append(20)\n",
    "l1"
   ]
  },
  {
   "cell_type": "code",
   "execution_count": 52,
   "id": "6d390805",
   "metadata": {},
   "outputs": [
    {
     "data": {
      "text/plain": [
       "[1, 2, 3, 4, 5, 6, 7]"
      ]
     },
     "execution_count": 52,
     "metadata": {},
     "output_type": "execute_result"
    }
   ],
   "source": [
    "l2=list(range(1,8))\n",
    "l2"
   ]
  },
  {
   "cell_type": "code",
   "execution_count": 53,
   "id": "4f687014",
   "metadata": {},
   "outputs": [
    {
     "data": {
      "text/plain": [
       "[10, 2, -100, -100, 3.1, True, 'ac', 'c', 20, 1, 2, 3, 4, 5, 6, 7]"
      ]
     },
     "execution_count": 53,
     "metadata": {},
     "output_type": "execute_result"
    }
   ],
   "source": [
    "#Concatination\n",
    "l3 = l1 + l2\n",
    "l3"
   ]
  },
  {
   "cell_type": "code",
   "execution_count": 54,
   "id": "5c534d24",
   "metadata": {},
   "outputs": [
    {
     "data": {
      "text/plain": [
       "[[10, 2, -100, -100, 3.1, True, 'ac', 'c', 20], [1, 2, 3, 4, 5, 6, 7]]"
      ]
     },
     "execution_count": 54,
     "metadata": {},
     "output_type": "execute_result"
    }
   ],
   "source": [
    "#nested\n",
    "l4 = [l1, l2]\n",
    "l4"
   ]
  },
  {
   "cell_type": "code",
   "execution_count": 55,
   "id": "b3780214",
   "metadata": {},
   "outputs": [
    {
     "data": {
      "text/plain": [
       "2"
      ]
     },
     "execution_count": 55,
     "metadata": {},
     "output_type": "execute_result"
    }
   ],
   "source": [
    "l4[1][1]"
   ]
  },
  {
   "cell_type": "markdown",
   "id": "11a2740b",
   "metadata": {},
   "source": [
    "# Dictionaries\n",
    "Dictionaries are unordered mappings for sorting objects."
   ]
  },
  {
   "cell_type": "code",
   "execution_count": 56,
   "id": "ca21f4d1",
   "metadata": {},
   "outputs": [
    {
     "data": {
      "text/plain": [
       "{'name': 'sara', 'age': 20, 'tel': 1020}"
      ]
     },
     "execution_count": 56,
     "metadata": {},
     "output_type": "execute_result"
    }
   ],
   "source": [
    "d1 = {'name':'sara', 'age': 20, 'tel':1020}\n",
    "d1"
   ]
  },
  {
   "cell_type": "code",
   "execution_count": 57,
   "id": "2ac2f3cc",
   "metadata": {},
   "outputs": [
    {
     "data": {
      "text/plain": [
       "dict"
      ]
     },
     "execution_count": 57,
     "metadata": {},
     "output_type": "execute_result"
    }
   ],
   "source": [
    "type(d1)"
   ]
  },
  {
   "cell_type": "code",
   "execution_count": 58,
   "id": "c7590df7",
   "metadata": {},
   "outputs": [
    {
     "data": {
      "text/plain": [
       "20"
      ]
     },
     "execution_count": 58,
     "metadata": {},
     "output_type": "execute_result"
    }
   ],
   "source": [
    "d1['age']"
   ]
  },
  {
   "cell_type": "code",
   "execution_count": 59,
   "id": "42410fdc",
   "metadata": {},
   "outputs": [
    {
     "data": {
      "text/plain": [
       "{'k1': 12.5, 'k2': [0, 1, 2, 3, 4], 'k3': {'k3_1': 'abc', 'k3_2': 'def'}}"
      ]
     },
     "execution_count": 59,
     "metadata": {},
     "output_type": "execute_result"
    }
   ],
   "source": [
    "d2 = {'k1': 12.5, \n",
    "      'k2': [0, 1, 2, 3, 4], \n",
    "      'k3': {'k3_1': 'abc', 'k3_2': 'def'}}\n",
    "d2"
   ]
  },
  {
   "cell_type": "code",
   "execution_count": 60,
   "id": "e85217a3",
   "metadata": {},
   "outputs": [
    {
     "data": {
      "text/plain": [
       "2"
      ]
     },
     "execution_count": 60,
     "metadata": {},
     "output_type": "execute_result"
    }
   ],
   "source": [
    "d2['k2'][2]"
   ]
  },
  {
   "cell_type": "code",
   "execution_count": 61,
   "id": "e45ef55d",
   "metadata": {},
   "outputs": [
    {
     "data": {
      "text/plain": [
       "dict_keys(['k1', 'k2', 'k3'])"
      ]
     },
     "execution_count": 61,
     "metadata": {},
     "output_type": "execute_result"
    }
   ],
   "source": [
    "d2.keys()"
   ]
  },
  {
   "cell_type": "code",
   "execution_count": 62,
   "id": "c55eca4e",
   "metadata": {},
   "outputs": [
    {
     "data": {
      "text/plain": [
       "{'k1': 12.5,\n",
       " 'k2': [0, 1, 2, 3, 4],\n",
       " 'k3': {'k3_1': 'abc', 'k3_2': 'def'},\n",
       " 'k4': 300}"
      ]
     },
     "execution_count": 62,
     "metadata": {},
     "output_type": "execute_result"
    }
   ],
   "source": [
    "d2['k4'] = 300\n",
    "d2"
   ]
  },
  {
   "cell_type": "code",
   "execution_count": 63,
   "id": "dd5570bf",
   "metadata": {},
   "outputs": [
    {
     "name": "stdout",
     "output_type": "stream",
     "text": [
      "Variable   Type     Data/Info\n",
      "-----------------------------\n",
      "b          int      9\n",
      "d1         dict     n=3\n",
      "d2         dict     n=4\n",
      "l1         list     n=9\n",
      "l2         list     n=7\n",
      "l3         list     n=16\n",
      "l4         list     n=2\n",
      "x          int      10\n",
      "y          int      20\n",
      "y1         float    12.3\n"
     ]
    }
   ],
   "source": [
    "#Access to user-defined varibales:\n",
    "#Magic Commands: \n",
    "#https://ipython.readthedocs.io/en/stable/interactive/magics.html\n",
    "%whos"
   ]
  },
  {
   "cell_type": "markdown",
   "id": "6dd2f65b",
   "metadata": {},
   "source": [
    "# Tuples\n",
    "Tuples are very similar to lists, however they are immutable."
   ]
  },
  {
   "cell_type": "code",
   "execution_count": 64,
   "id": "cbb2f602",
   "metadata": {},
   "outputs": [
    {
     "data": {
      "text/plain": [
       "(1, 4, 4, 'abc')"
      ]
     },
     "execution_count": 64,
     "metadata": {},
     "output_type": "execute_result"
    }
   ],
   "source": [
    "t1 = (1, 4, 4, 'abc')\n",
    "t1"
   ]
  },
  {
   "cell_type": "code",
   "execution_count": 65,
   "id": "fe6aa52d",
   "metadata": {},
   "outputs": [
    {
     "data": {
      "text/plain": [
       "tuple"
      ]
     },
     "execution_count": 65,
     "metadata": {},
     "output_type": "execute_result"
    }
   ],
   "source": [
    "type(t1)"
   ]
  },
  {
   "cell_type": "code",
   "execution_count": 66,
   "id": "746b8e27",
   "metadata": {},
   "outputs": [
    {
     "data": {
      "text/plain": [
       "4"
      ]
     },
     "execution_count": 66,
     "metadata": {},
     "output_type": "execute_result"
    }
   ],
   "source": [
    "len(t1)"
   ]
  },
  {
   "cell_type": "code",
   "execution_count": 67,
   "id": "e20a33fd",
   "metadata": {},
   "outputs": [
    {
     "data": {
      "text/plain": [
       "3"
      ]
     },
     "execution_count": 67,
     "metadata": {},
     "output_type": "execute_result"
    }
   ],
   "source": [
    "t1.index('abc')"
   ]
  },
  {
   "cell_type": "code",
   "execution_count": 68,
   "id": "2cf514c5",
   "metadata": {},
   "outputs": [
    {
     "data": {
      "text/plain": [
       "2"
      ]
     },
     "execution_count": 68,
     "metadata": {},
     "output_type": "execute_result"
    }
   ],
   "source": [
    "t1.count(4)"
   ]
  },
  {
   "cell_type": "code",
   "execution_count": 69,
   "id": "95abe9d1",
   "metadata": {},
   "outputs": [
    {
     "ename": "TypeError",
     "evalue": "'tuple' object does not support item assignment",
     "output_type": "error",
     "traceback": [
      "\u001b[1;31m---------------------------------------------------------------------------\u001b[0m",
      "\u001b[1;31mTypeError\u001b[0m                                 Traceback (most recent call last)",
      "Input \u001b[1;32mIn [69]\u001b[0m, in \u001b[0;36m<cell line: 2>\u001b[1;34m()\u001b[0m\n\u001b[0;32m      1\u001b[0m \u001b[38;5;66;03m#Tuple does not support item assignment\u001b[39;00m\n\u001b[1;32m----> 2\u001b[0m t1[\u001b[38;5;241m0\u001b[39m] \u001b[38;5;241m=\u001b[39m \u001b[38;5;241m0\u001b[39m\n",
      "\u001b[1;31mTypeError\u001b[0m: 'tuple' object does not support item assignment"
     ]
    }
   ],
   "source": [
    "#Tuple does not support item assignment\n",
    "t1[0] = 0 #error"
   ]
  },
  {
   "cell_type": "markdown",
   "id": "acc79d3f",
   "metadata": {},
   "source": [
    "# Sets\n",
    "Sets are unordered collections of unique elements."
   ]
  },
  {
   "cell_type": "code",
   "execution_count": 70,
   "id": "7e0af73e",
   "metadata": {},
   "outputs": [
    {
     "data": {
      "text/plain": [
       "{3, 5, 7, 9}"
      ]
     },
     "execution_count": 70,
     "metadata": {},
     "output_type": "execute_result"
    }
   ],
   "source": [
    "s1 = {3, 5, 7, 7, 7, 9}\n",
    "s1"
   ]
  },
  {
   "cell_type": "code",
   "execution_count": 71,
   "id": "15d3cd71",
   "metadata": {},
   "outputs": [
    {
     "data": {
      "text/plain": [
       "{1, 3, 5, 7, 9}"
      ]
     },
     "execution_count": 71,
     "metadata": {},
     "output_type": "execute_result"
    }
   ],
   "source": [
    "s1.add(1)\n",
    "s1"
   ]
  },
  {
   "cell_type": "code",
   "execution_count": 72,
   "id": "e3731a4f",
   "metadata": {},
   "outputs": [
    {
     "ename": "TypeError",
     "evalue": "'set' object is not subscriptable",
     "output_type": "error",
     "traceback": [
      "\u001b[1;31m---------------------------------------------------------------------------\u001b[0m",
      "\u001b[1;31mTypeError\u001b[0m                                 Traceback (most recent call last)",
      "Input \u001b[1;32mIn [72]\u001b[0m, in \u001b[0;36m<cell line: 2>\u001b[1;34m()\u001b[0m\n\u001b[0;32m      1\u001b[0m \u001b[38;5;66;03m#Set is not subscriptable\u001b[39;00m\n\u001b[1;32m----> 2\u001b[0m \u001b[43ms1\u001b[49m\u001b[43m[\u001b[49m\u001b[38;5;241;43m0\u001b[39;49m\u001b[43m]\u001b[49m\n",
      "\u001b[1;31mTypeError\u001b[0m: 'set' object is not subscriptable"
     ]
    }
   ],
   "source": [
    "#Set is not subscriptable\n",
    "s1[0] #error"
   ]
  },
  {
   "cell_type": "code",
   "execution_count": 73,
   "id": "fd58cdc7",
   "metadata": {},
   "outputs": [
    {
     "data": {
      "text/plain": [
       "[1, 1, 1, 1, 2, 2, 3, 4]"
      ]
     },
     "execution_count": 73,
     "metadata": {},
     "output_type": "execute_result"
    }
   ],
   "source": [
    "l1 = [1, 1, 1, 1, 2, 2, 3, 4]\n",
    "l1"
   ]
  },
  {
   "cell_type": "code",
   "execution_count": 74,
   "id": "fd804fda",
   "metadata": {},
   "outputs": [
    {
     "data": {
      "text/plain": [
       "{1, 2, 3, 4}"
      ]
     },
     "execution_count": 74,
     "metadata": {},
     "output_type": "execute_result"
    }
   ],
   "source": [
    "set(l1)"
   ]
  },
  {
   "cell_type": "markdown",
   "id": "022566ff",
   "metadata": {},
   "source": [
    "# If Else Statement"
   ]
  },
  {
   "cell_type": "code",
   "execution_count": 78,
   "id": "f29d07de",
   "metadata": {},
   "outputs": [
    {
     "name": "stdout",
     "output_type": "stream",
     "text": [
      "The number is negative\n"
     ]
    }
   ],
   "source": [
    "a=-1\n",
    "if a<0:\n",
    "  print('The number is negative')"
   ]
  },
  {
   "cell_type": "code",
   "execution_count": 79,
   "id": "1047a7eb",
   "metadata": {},
   "outputs": [
    {
     "name": "stdout",
     "output_type": "stream",
     "text": [
      "The number is even\n"
     ]
    }
   ],
   "source": [
    "b=12\n",
    "if b%2==0:\n",
    "    print('The number is even')\n",
    "else:\n",
    "    'The number is odd'\n",
    "        "
   ]
  },
  {
   "cell_type": "code",
   "execution_count": 80,
   "id": "093b2014",
   "metadata": {},
   "outputs": [
    {
     "name": "stdout",
     "output_type": "stream",
     "text": [
      "The number is zero\n"
     ]
    }
   ],
   "source": [
    "a = 0\n",
    "if a > 0 :\n",
    "    print('The number is positive')\n",
    "elif a < 0 :\n",
    "    print('The number is negative')\n",
    "else:\n",
    "    print('The number is zero')"
   ]
  },
  {
   "cell_type": "markdown",
   "id": "1d45d368",
   "metadata": {},
   "source": [
    "# Loops\n",
    "For Loops"
   ]
  },
  {
   "cell_type": "code",
   "execution_count": 84,
   "id": "097b1b52",
   "metadata": {},
   "outputs": [
    {
     "data": {
      "text/plain": [
       "[1, 3, 5, 7, 9, 11]"
      ]
     },
     "execution_count": 84,
     "metadata": {},
     "output_type": "execute_result"
    }
   ],
   "source": [
    "l5=list(range(1,13,2))\n",
    "l5"
   ]
  },
  {
   "cell_type": "code",
   "execution_count": 85,
   "id": "11c01249",
   "metadata": {},
   "outputs": [
    {
     "name": "stdout",
     "output_type": "stream",
     "text": [
      "1\n",
      "9\n",
      "25\n",
      "49\n",
      "81\n",
      "121\n"
     ]
    }
   ],
   "source": [
    "for i in l5:\n",
    "    print(i**2)"
   ]
  },
  {
   "cell_type": "code",
   "execution_count": 86,
   "id": "a87d0bdb",
   "metadata": {},
   "outputs": [
    {
     "data": {
      "text/plain": [
       "[2, 4, 6, 8]"
      ]
     },
     "execution_count": 86,
     "metadata": {},
     "output_type": "execute_result"
    }
   ],
   "source": [
    "l = []\n",
    "for i in range(2, 10,2):\n",
    "    l.append(i)\n",
    "l"
   ]
  },
  {
   "cell_type": "code",
   "execution_count": 87,
   "id": "6e826071",
   "metadata": {},
   "outputs": [
    {
     "data": {
      "text/plain": [
       "[1, 2, 3, 4, 5]"
      ]
     },
     "execution_count": 87,
     "metadata": {},
     "output_type": "execute_result"
    }
   ],
   "source": [
    "#List comprehension\n",
    "l = [_ for _ in range(1, 6)]\n",
    "l"
   ]
  },
  {
   "cell_type": "code",
   "execution_count": 88,
   "id": "d73756c5",
   "metadata": {},
   "outputs": [
    {
     "data": {
      "text/plain": [
       "[1, 3, 5, 7, 9, 11, 13, 15, 17, 19]"
      ]
     },
     "execution_count": 88,
     "metadata": {},
     "output_type": "execute_result"
    }
   ],
   "source": [
    "#List of odd numbers between 1 and 20\n",
    "l = [_ for _ in range(1, 21, 2)]\n",
    "l"
   ]
  },
  {
   "cell_type": "code",
   "execution_count": 89,
   "id": "dab01e4e",
   "metadata": {},
   "outputs": [
    {
     "data": {
      "text/plain": [
       "[[None, None, None, None, None, None, None, None, None, None],\n",
       " [None, None, None, None, None, None, None, None, None, None],\n",
       " [None, None, None, None, None, None, None, None, None, None],\n",
       " [None, None, None, None, None, None, None, None, None, None],\n",
       " [None, None, None, None, None, None, None, None, None, None],\n",
       " [None, None, None, None, None, None, None, None, None, None],\n",
       " [None, None, None, None, None, None, None, None, None, None],\n",
       " [None, None, None, None, None, None, None, None, None, None],\n",
       " [None, None, None, None, None, None, None, None, None, None],\n",
       " [None, None, None, None, None, None, None, None, None, None]]"
      ]
     },
     "execution_count": 89,
     "metadata": {},
     "output_type": "execute_result"
    }
   ],
   "source": [
    "#Nested for\n",
    "#10 * 10 multiplication table\n",
    "#Create an empty nested list\n",
    "table = [[None for _ in range(10)] for _ in range(10)]\n",
    "table"
   ]
  },
  {
   "cell_type": "code",
   "execution_count": 90,
   "id": "7826d7bc",
   "metadata": {},
   "outputs": [
    {
     "data": {
      "text/plain": [
       "[[1, 2, 3, 4, 5, 6, 7, 8, 9, 10],\n",
       " [2, 4, 6, 8, 10, 12, 14, 16, 18, 20],\n",
       " [3, 6, 9, 12, 15, 18, 21, 24, 27, 30],\n",
       " [4, 8, 12, 16, 20, 24, 28, 32, 36, 40],\n",
       " [5, 10, 15, 20, 25, 30, 35, 40, 45, 50],\n",
       " [6, 12, 18, 24, 30, 36, 42, 48, 54, 60],\n",
       " [7, 14, 21, 28, 35, 42, 49, 56, 63, 70],\n",
       " [8, 16, 24, 32, 40, 48, 56, 64, 72, 80],\n",
       " [9, 18, 27, 36, 45, 54, 63, 72, 81, 90],\n",
       " [10, 20, 30, 40, 50, 60, 70, 80, 90, 100]]"
      ]
     },
     "execution_count": 90,
     "metadata": {},
     "output_type": "execute_result"
    }
   ],
   "source": [
    "for i in range(len(table)):\n",
    "    for j in range(len(table)):\n",
    "        table[i][j] = (i + 1) * (j + 1) \n",
    "        \n",
    "table              "
   ]
  },
  {
   "cell_type": "markdown",
   "id": "a4db2e2b",
   "metadata": {},
   "source": [
    "# While Loops"
   ]
  },
  {
   "cell_type": "code",
   "execution_count": 91,
   "id": "65976adc",
   "metadata": {},
   "outputs": [
    {
     "name": "stdout",
     "output_type": "stream",
     "text": [
      "1\n",
      "4\n",
      "9\n",
      "16\n",
      "25\n"
     ]
    }
   ],
   "source": [
    "c = 1\n",
    "while c <= 5:\n",
    "    print(c ** 2)\n",
    "    c += 1"
   ]
  },
  {
   "cell_type": "markdown",
   "id": "6ef7ae42",
   "metadata": {},
   "source": [
    "# Functions\n",
    "Create function\n",
    "\n",
    "Example: s = (1+r)^n/y\n",
    "\n"
   ]
  },
  {
   "cell_type": "code",
   "execution_count": 7,
   "id": "1cf46316",
   "metadata": {},
   "outputs": [],
   "source": [
    "def p(y, r, n):\n",
    "    s = (1+r)** n / y \n",
    "    return s"
   ]
  },
  {
   "cell_type": "code",
   "execution_count": 10,
   "id": "03a394df",
   "metadata": {},
   "outputs": [
    {
     "data": {
      "text/plain": [
       "235092492288.0"
      ]
     },
     "execution_count": 10,
     "metadata": {},
     "output_type": "execute_result"
    }
   ],
   "source": [
    "p(2, 5, 15)"
   ]
  },
  {
   "cell_type": "code",
   "execution_count": 11,
   "id": "92b59e9e",
   "metadata": {},
   "outputs": [
    {
     "data": {
      "text/plain": [
       "function"
      ]
     },
     "execution_count": 11,
     "metadata": {},
     "output_type": "execute_result"
    }
   ],
   "source": [
    "type(pv1)"
   ]
  },
  {
   "cell_type": "code",
   "execution_count": 13,
   "id": "4ebf4ceb",
   "metadata": {},
   "outputs": [
    {
     "data": {
      "text/plain": [
       "235092492288.0"
      ]
     },
     "execution_count": 13,
     "metadata": {},
     "output_type": "execute_result"
    }
   ],
   "source": [
    "p(y = 2, r = 5, n = 15)"
   ]
  },
  {
   "cell_type": "code",
   "execution_count": 14,
   "id": "0e2bb6ae",
   "metadata": {},
   "outputs": [
    {
     "ename": "TypeError",
     "evalue": "p() missing 1 required positional argument: 'n'",
     "output_type": "error",
     "traceback": [
      "\u001b[1;31m---------------------------------------------------------------------------\u001b[0m",
      "\u001b[1;31mTypeError\u001b[0m                                 Traceback (most recent call last)",
      "Input \u001b[1;32mIn [14]\u001b[0m, in \u001b[0;36m<cell line: 1>\u001b[1;34m()\u001b[0m\n\u001b[1;32m----> 1\u001b[0m \u001b[43mp\u001b[49m\u001b[43m(\u001b[49m\u001b[38;5;241;43m2\u001b[39;49m\u001b[43m,\u001b[49m\u001b[38;5;241;43m5\u001b[39;49m\u001b[43m)\u001b[49m\n",
      "\u001b[1;31mTypeError\u001b[0m: p() missing 1 required positional argument: 'n'"
     ]
    }
   ],
   "source": [
    "p(2,5)"
   ]
  },
  {
   "cell_type": "code",
   "execution_count": 15,
   "id": "2f0ed2a3",
   "metadata": {},
   "outputs": [
    {
     "ename": "SyntaxError",
     "evalue": "non-default argument follows default argument (2532923365.py, line 4)",
     "output_type": "error",
     "traceback": [
      "\u001b[1;36m  Input \u001b[1;32mIn [15]\u001b[1;36m\u001b[0m\n\u001b[1;33m    def p(y, r = 1, n):\u001b[0m\n\u001b[1;37m                     ^\u001b[0m\n\u001b[1;31mSyntaxError\u001b[0m\u001b[1;31m:\u001b[0m non-default argument follows default argument\n"
     ]
    }
   ],
   "source": [
    "#Arguments w/ default values\n",
    "#Any number of arguments in a function can have a default value. \n",
    "#But once we have a default argument, all the arguments to its right must also have default values.\n",
    "def p(y, r = 1, n):\n",
    "    s = (1+r)** n / y \n",
    "    return s #error"
   ]
  },
  {
   "cell_type": "code",
   "execution_count": 16,
   "id": "0bdd66d8",
   "metadata": {},
   "outputs": [
    {
     "data": {
      "text/plain": [
       "0.00030517578125"
      ]
     },
     "execution_count": 16,
     "metadata": {},
     "output_type": "execute_result"
    }
   ],
   "source": [
    "def p(y, n, r = 0.25):\n",
    "    s = (1 + r) ** n / y\n",
    "    return s\n",
    "\n",
    "p(10000, 5)"
   ]
  },
  {
   "cell_type": "markdown",
   "id": "f3b45c97",
   "metadata": {},
   "source": [
    "# Lambda Functions"
   ]
  },
  {
   "cell_type": "code",
   "execution_count": 17,
   "id": "42013fad",
   "metadata": {},
   "outputs": [
    {
     "data": {
      "text/plain": [
       "4"
      ]
     },
     "execution_count": 17,
     "metadata": {},
     "output_type": "execute_result"
    }
   ],
   "source": [
    "(lambda x: x ** 2)(2)"
   ]
  },
  {
   "cell_type": "markdown",
   "id": "72c8e081",
   "metadata": {},
   "source": []
  },
  {
   "cell_type": "code",
   "execution_count": null,
   "id": "ee2e2f0b",
   "metadata": {},
   "outputs": [],
   "source": []
  },
  {
   "cell_type": "code",
   "execution_count": null,
   "id": "2d31e419",
   "metadata": {},
   "outputs": [],
   "source": []
  },
  {
   "cell_type": "markdown",
   "id": "35165ff5",
   "metadata": {},
   "source": [
    "# Assignment"
   ]
  },
  {
   "cell_type": "markdown",
   "id": "398deb27",
   "metadata": {},
   "source": [
    "Q1:\n",
    "\n",
    "a: Create l1 which is a list of odd numbers from 1 to 10. \n",
    "\n",
    "b: Create l2 which is a list of prime numbers from 1 to 10. \n",
    "\n",
    "c: Concatinate l1 and l2 to create l3.\n",
    "\n",
    "d: Calculate the length of list l3\n",
    "\n",
    "e: Count the number of occurance of 5 in l3.\n",
    "\n",
    "f: Add number 10 to l3.\n",
    "\n",
    "g: Sort l3 in ascending order.\n",
    "\n",
    "h: Replace all even numbers in l3 with 0.\n",
    "Q2: Using keys and indexing, grab the 'hello' from the following dictionaries:\n",
    "\n",
    " d = {'k1':{'k2':'hello'}}\n",
    "\n",
    " d = {'k1':[{'nest_key':['this is deep', ['hello']]}]}\n",
    "\n",
    " d = {'k1':[1, 2, {'k2': ['this is tricky', {'tough': [1, 2, ['hello']]}]}]}\n",
    "Q3: Use list comprehension to create a list of all numbers between 1 and 50 that are divisible by 3.\n",
    "\n",
    "Q4: Write a code to find if a positive integer is prime or not.\n",
    "\n",
    "Q5: Generate the numbers of the Fibonacci sequence that are less than 10,000,000.\n",
    "Q6: Write a function to find the sum of digits of an integer number.\n",
    "\n",
    "Hint: https://en.wikipedia.org/wiki/Fibonacci_number\n",
    "End of Code\n"
   ]
  }
 ],
 "metadata": {
  "kernelspec": {
   "display_name": "Python 3 (ipykernel)",
   "language": "python",
   "name": "python3"
  },
  "language_info": {
   "codemirror_mode": {
    "name": "ipython",
    "version": 3
   },
   "file_extension": ".py",
   "mimetype": "text/x-python",
   "name": "python",
   "nbconvert_exporter": "python",
   "pygments_lexer": "ipython3",
   "version": "3.9.12"
  }
 },
 "nbformat": 4,
 "nbformat_minor": 5
}
