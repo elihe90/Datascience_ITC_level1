{
 "cells": [
  {
   "cell_type": "markdown",
   "id": "f7c8242c",
   "metadata": {},
   "source": [
    "# Introduction Numpy Library\n",
    "## By elham heidari"
   ]
  },
  {
   "cell_type": "code",
   "execution_count": 1,
   "id": "c0c2199b",
   "metadata": {},
   "outputs": [],
   "source": [
    "#Import math library\n",
    "import math"
   ]
  },
  {
   "cell_type": "code",
   "execution_count": 2,
   "id": "0e1e64aa",
   "metadata": {},
   "outputs": [
    {
     "data": {
      "text/plain": [
       "5.0"
      ]
     },
     "execution_count": 2,
     "metadata": {},
     "output_type": "execute_result"
    }
   ],
   "source": [
    "math.sqrt(25)"
   ]
  },
  {
   "cell_type": "code",
   "execution_count": 3,
   "id": "b58e172a",
   "metadata": {},
   "outputs": [
    {
     "data": {
      "text/plain": [
       "2.0"
      ]
     },
     "execution_count": 3,
     "metadata": {},
     "output_type": "execute_result"
    }
   ],
   "source": [
    "math.log(100, 10)"
   ]
  },
  {
   "cell_type": "markdown",
   "id": "0ac5d764",
   "metadata": {},
   "source": [
    "Basic Stat Functions"
   ]
  },
  {
   "cell_type": "code",
   "execution_count": 4,
   "id": "04e2cf24",
   "metadata": {},
   "outputs": [],
   "source": [
    "#Import statistics module\n",
    "import statistics as stat"
   ]
  },
  {
   "cell_type": "code",
   "execution_count": 6,
   "id": "a39c19c7",
   "metadata": {},
   "outputs": [
    {
     "data": {
      "text/plain": [
       "[1, 3, 5, 6, 1.0, 11.2]"
      ]
     },
     "execution_count": 6,
     "metadata": {},
     "output_type": "execute_result"
    }
   ],
   "source": [
    "s = [1,3,5,6,1.0,11.2]\n",
    "s"
   ]
  },
  {
   "cell_type": "code",
   "execution_count": 7,
   "id": "99ad911e",
   "metadata": {},
   "outputs": [
    {
     "data": {
      "text/plain": [
       "18.071428571428573"
      ]
     },
     "execution_count": 7,
     "metadata": {},
     "output_type": "execute_result"
    }
   ],
   "source": [
    "stat.mean(l)"
   ]
  },
  {
   "cell_type": "code",
   "execution_count": 8,
   "id": "a0d78c7b",
   "metadata": {},
   "outputs": [
    {
     "data": {
      "text/plain": [
       "13.4"
      ]
     },
     "execution_count": 8,
     "metadata": {},
     "output_type": "execute_result"
    }
   ],
   "source": [
    "stat.median(l)"
   ]
  },
  {
   "cell_type": "code",
   "execution_count": 9,
   "id": "7f5c2818",
   "metadata": {},
   "outputs": [
    {
     "data": {
      "text/plain": [
       "12.1"
      ]
     },
     "execution_count": 9,
     "metadata": {},
     "output_type": "execute_result"
    }
   ],
   "source": [
    "stat.mode(l)"
   ]
  },
  {
   "cell_type": "code",
   "execution_count": 10,
   "id": "8fc5946e",
   "metadata": {},
   "outputs": [
    {
     "data": {
      "text/plain": [
       "7.530540991127239"
      ]
     },
     "execution_count": 10,
     "metadata": {},
     "output_type": "execute_result"
    }
   ],
   "source": [
    "stat.stdev(l)"
   ]
  },
  {
   "cell_type": "code",
   "execution_count": 11,
   "id": "4f1ed3b2",
   "metadata": {},
   "outputs": [
    {
     "data": {
      "text/plain": [
       "56.709047619047624"
      ]
     },
     "execution_count": 11,
     "metadata": {},
     "output_type": "execute_result"
    }
   ],
   "source": [
    "stat.variance(l)"
   ]
  },
  {
   "cell_type": "markdown",
   "id": "e5134956",
   "metadata": {},
   "source": [
    "# Numpy\n",
    "NumPy (Numerical Python) is one of the core packages for numerical computing in Python.\n",
    "\n",
    "Pandas, Matplotlib, Statmodels and many other Scientific libraries rely on NumPy.\n",
    "\n",
    "Check NumPy documentation: https://numpy.org/doc/stable/user/absolute_beginners.html"
   ]
  },
  {
   "cell_type": "code",
   "execution_count": 12,
   "id": "4749083e",
   "metadata": {},
   "outputs": [],
   "source": [
    "import numpy as np"
   ]
  },
  {
   "cell_type": "code",
   "execution_count": 18,
   "id": "66de80f5",
   "metadata": {},
   "outputs": [
    {
     "data": {
      "text/plain": [
       "array([3. , 2.1, 5. , 9.7, 4. , 5.5, 1. ])"
      ]
     },
     "execution_count": 18,
     "metadata": {},
     "output_type": "execute_result"
    }
   ],
   "source": [
    "#One-dimension array\n",
    "p1 = np.array([3, 2.1, 5, 9.7, 4, 5.5,1])\n",
    "p1"
   ]
  },
  {
   "cell_type": "code",
   "execution_count": 19,
   "id": "a01c7473",
   "metadata": {},
   "outputs": [
    {
     "data": {
      "text/plain": [
       "numpy.ndarray"
      ]
     },
     "execution_count": 19,
     "metadata": {},
     "output_type": "execute_result"
    }
   ],
   "source": [
    "type(p1)"
   ]
  },
  {
   "cell_type": "code",
   "execution_count": 20,
   "id": "8c0289e9",
   "metadata": {},
   "outputs": [
    {
     "data": {
      "text/plain": [
       "(7,)"
      ]
     },
     "execution_count": 20,
     "metadata": {},
     "output_type": "execute_result"
    }
   ],
   "source": [
    "#Shape\n",
    "p1.shape"
   ]
  },
  {
   "cell_type": "code",
   "execution_count": 21,
   "id": "53709de0",
   "metadata": {},
   "outputs": [
    {
     "data": {
      "text/plain": [
       "3.0"
      ]
     },
     "execution_count": 21,
     "metadata": {},
     "output_type": "execute_result"
    }
   ],
   "source": [
    "#Indexing\n",
    "p1[0]"
   ]
  },
  {
   "cell_type": "code",
   "execution_count": 22,
   "id": "59ee9f9e",
   "metadata": {},
   "outputs": [
    {
     "data": {
      "text/plain": [
       "array([2.1, 5. , 9.7])"
      ]
     },
     "execution_count": 22,
     "metadata": {},
     "output_type": "execute_result"
    }
   ],
   "source": [
    "p1[1 : 4]"
   ]
  },
  {
   "cell_type": "code",
   "execution_count": 23,
   "id": "223b8d33",
   "metadata": {},
   "outputs": [
    {
     "data": {
      "text/plain": [
       "array([3. , 9.7, 4. ])"
      ]
     },
     "execution_count": 23,
     "metadata": {},
     "output_type": "execute_result"
    }
   ],
   "source": [
    "p1[[0, 3, 4]]"
   ]
  },
  {
   "cell_type": "code",
   "execution_count": 24,
   "id": "4b056c02",
   "metadata": {},
   "outputs": [
    {
     "data": {
      "text/plain": [
       "array([[11.,  1.,  1.],\n",
       "       [ 2.,  0.,  4.],\n",
       "       [ 1.,  4.,  3.]])"
      ]
     },
     "execution_count": 24,
     "metadata": {},
     "output_type": "execute_result"
    }
   ],
   "source": [
    "#Matrix\n",
    "p2 = np.array([[11,1.0, 1], [2, 0, 4], [1, 4, 3]])\n",
    "p2"
   ]
  },
  {
   "cell_type": "code",
   "execution_count": 25,
   "id": "949cc898",
   "metadata": {},
   "outputs": [
    {
     "data": {
      "text/plain": [
       "(3, 3)"
      ]
     },
     "execution_count": 25,
     "metadata": {},
     "output_type": "execute_result"
    }
   ],
   "source": [
    "#Shape\n",
    "p2.shape"
   ]
  },
  {
   "cell_type": "code",
   "execution_count": 28,
   "id": "1a69202b",
   "metadata": {},
   "outputs": [
    {
     "data": {
      "text/plain": [
       "4.0"
      ]
     },
     "execution_count": 28,
     "metadata": {},
     "output_type": "execute_result"
    }
   ],
   "source": [
    "#Indexing\n",
    "p2[1, 2]"
   ]
  },
  {
   "cell_type": "code",
   "execution_count": 29,
   "id": "2e6bc43a",
   "metadata": {},
   "outputs": [
    {
     "data": {
      "text/plain": [
       "array([1., 4., 3.])"
      ]
     },
     "execution_count": 29,
     "metadata": {},
     "output_type": "execute_result"
    }
   ],
   "source": [
    "p2[2]"
   ]
  },
  {
   "cell_type": "code",
   "execution_count": 30,
   "id": "f15ec3ad",
   "metadata": {},
   "outputs": [
    {
     "data": {
      "text/plain": [
       "array([2., 0., 4.])"
      ]
     },
     "execution_count": 30,
     "metadata": {},
     "output_type": "execute_result"
    }
   ],
   "source": [
    "p2[1, :]"
   ]
  },
  {
   "cell_type": "code",
   "execution_count": 31,
   "id": "f59ee72e",
   "metadata": {},
   "outputs": [
    {
     "data": {
      "text/plain": [
       "array([[0., 4.],\n",
       "       [4., 3.]])"
      ]
     },
     "execution_count": 31,
     "metadata": {},
     "output_type": "execute_result"
    }
   ],
   "source": [
    "p2[1 :, 1:]"
   ]
  },
  {
   "cell_type": "code",
   "execution_count": 32,
   "id": "6fa36e5f",
   "metadata": {},
   "outputs": [
    {
     "data": {
      "text/plain": [
       "dtype('float64')"
      ]
     },
     "execution_count": 32,
     "metadata": {},
     "output_type": "execute_result"
    }
   ],
   "source": [
    "#Data type\n",
    "p2.dtype"
   ]
  },
  {
   "cell_type": "code",
   "execution_count": 33,
   "id": "6c7c779c",
   "metadata": {},
   "outputs": [
    {
     "data": {
      "text/plain": [
       "array([3. , 2.1, 5. , 9.7, 4. , 5.5, 1. ])"
      ]
     },
     "execution_count": 33,
     "metadata": {},
     "output_type": "execute_result"
    }
   ],
   "source": [
    "#Modify an array\n",
    "p1"
   ]
  },
  {
   "cell_type": "code",
   "execution_count": 34,
   "id": "5598740a",
   "metadata": {},
   "outputs": [
    {
     "data": {
      "text/plain": [
       "array([3. , 0. , 5. , 9.7, 4. , 5.5, 1. ])"
      ]
     },
     "execution_count": 34,
     "metadata": {},
     "output_type": "execute_result"
    }
   ],
   "source": [
    "p1[1] = 0\n",
    "p1"
   ]
  },
  {
   "cell_type": "code",
   "execution_count": 35,
   "id": "ea5672ba",
   "metadata": {},
   "outputs": [
    {
     "data": {
      "text/plain": [
       "array([[0, 0, 0],\n",
       "       [0, 0, 0]])"
      ]
     },
     "execution_count": 35,
     "metadata": {},
     "output_type": "execute_result"
    }
   ],
   "source": [
    "p3 = np.zeros((2, 3), dtype = int)\n",
    "p3"
   ]
  },
  {
   "cell_type": "code",
   "execution_count": 36,
   "id": "bba85f86",
   "metadata": {},
   "outputs": [
    {
     "data": {
      "text/plain": [
       "array([[1, 1, 1],\n",
       "       [1, 1, 1],\n",
       "       [1, 1, 1]])"
      ]
     },
     "execution_count": 36,
     "metadata": {},
     "output_type": "execute_result"
    }
   ],
   "source": [
    "p4 = np.ones((3, 3), dtype = int)\n",
    "p4"
   ]
  },
  {
   "cell_type": "code",
   "execution_count": 37,
   "id": "178f414b",
   "metadata": {},
   "outputs": [
    {
     "data": {
      "text/plain": [
       "array([ 1,  4,  7, 10, 13, 16, 19])"
      ]
     },
     "execution_count": 37,
     "metadata": {},
     "output_type": "execute_result"
    }
   ],
   "source": [
    "#Create ranges with arange\n",
    "p5 = np.arange(1, 20, 3)\n",
    "p5"
   ]
  },
  {
   "cell_type": "code",
   "execution_count": 38,
   "id": "729c2768",
   "metadata": {},
   "outputs": [
    {
     "data": {
      "text/plain": [
       "array([0, 1, 2, 3, 4])"
      ]
     },
     "execution_count": 38,
     "metadata": {},
     "output_type": "execute_result"
    }
   ],
   "source": [
    "p6 = np.arange(5)\n",
    "p6"
   ]
  },
  {
   "cell_type": "code",
   "execution_count": 40,
   "id": "0c1eb865",
   "metadata": {},
   "outputs": [
    {
     "data": {
      "text/plain": [
       "array([1.        , 1.13793103, 1.27586207, 1.4137931 , 1.55172414,\n",
       "       1.68965517, 1.82758621, 1.96551724, 2.10344828, 2.24137931,\n",
       "       2.37931034, 2.51724138, 2.65517241, 2.79310345, 2.93103448,\n",
       "       3.06896552, 3.20689655, 3.34482759, 3.48275862, 3.62068966,\n",
       "       3.75862069, 3.89655172, 4.03448276, 4.17241379, 4.31034483,\n",
       "       4.44827586, 4.5862069 , 4.72413793, 4.86206897, 5.        ])"
      ]
     },
     "execution_count": 40,
     "metadata": {},
     "output_type": "execute_result"
    }
   ],
   "source": [
    "#Create floating-point ranges with linspace\n",
    "#The NumPy linspace function creates sequences of evenly spaced values within a defined interval\n",
    "p7 = np.linspace(1, 5, 30)\n",
    "p7"
   ]
  },
  {
   "cell_type": "code",
   "execution_count": 41,
   "id": "6ef16b50",
   "metadata": {},
   "outputs": [
    {
     "data": {
      "text/plain": [
       "(30,)"
      ]
     },
     "execution_count": 41,
     "metadata": {},
     "output_type": "execute_result"
    }
   ],
   "source": [
    "p7.shape"
   ]
  },
  {
   "cell_type": "code",
   "execution_count": 42,
   "id": "711ea934",
   "metadata": {},
   "outputs": [
    {
     "data": {
      "text/plain": [
       "array([[1.        , 1.13793103, 1.27586207, 1.4137931 , 1.55172414,\n",
       "        1.68965517],\n",
       "       [1.82758621, 1.96551724, 2.10344828, 2.24137931, 2.37931034,\n",
       "        2.51724138],\n",
       "       [2.65517241, 2.79310345, 2.93103448, 3.06896552, 3.20689655,\n",
       "        3.34482759],\n",
       "       [3.48275862, 3.62068966, 3.75862069, 3.89655172, 4.03448276,\n",
       "        4.17241379],\n",
       "       [4.31034483, 4.44827586, 4.5862069 , 4.72413793, 4.86206897,\n",
       "        5.        ]])"
      ]
     },
     "execution_count": 42,
     "metadata": {},
     "output_type": "execute_result"
    }
   ],
   "source": [
    "p7 = p7.reshape(5, 6)\n",
    "p7"
   ]
  },
  {
   "cell_type": "code",
   "execution_count": 43,
   "id": "893b53c6",
   "metadata": {},
   "outputs": [
    {
     "data": {
      "text/plain": [
       "array([[-1.0856306 ,  0.99734545,  0.2829785 ],\n",
       "       [-1.50629471, -0.57860025,  1.65143654],\n",
       "       [-2.42667924, -0.42891263,  1.26593626]])"
      ]
     },
     "execution_count": 43,
     "metadata": {},
     "output_type": "execute_result"
    }
   ],
   "source": [
    "#Create a 3x3 array of normally distributed random values\n",
    "# with mean 0 and standard deviation 1\n",
    "np.random.seed(123)\n",
    "p8 = np.random.normal(0, 1, (3, 3))\n",
    "p8"
   ]
  },
  {
   "cell_type": "code",
   "execution_count": 44,
   "id": "b32dd780",
   "metadata": {},
   "outputs": [
    {
     "data": {
      "text/plain": [
       "array([[2, 2, 6],\n",
       "       [1, 3, 9],\n",
       "       [6, 1, 0]])"
      ]
     },
     "execution_count": 44,
     "metadata": {},
     "output_type": "execute_result"
    }
   ],
   "source": [
    "#Create a 3x3 array of random integers in the interval [0, 10)\n",
    "np.random.seed(123)\n",
    "p9 = np.random.randint(0, 10, (3, 3))\n",
    "p9"
   ]
  },
  {
   "cell_type": "code",
   "execution_count": 45,
   "id": "a7ecf09d",
   "metadata": {},
   "outputs": [
    {
     "data": {
      "text/plain": [
       "9"
      ]
     },
     "execution_count": 45,
     "metadata": {},
     "output_type": "execute_result"
    }
   ],
   "source": [
    "np.max(p9)"
   ]
  },
  {
   "cell_type": "code",
   "execution_count": 46,
   "id": "a51e606c",
   "metadata": {},
   "outputs": [
    {
     "data": {
      "text/plain": [
       "3.3333333333333335"
      ]
     },
     "execution_count": 46,
     "metadata": {},
     "output_type": "execute_result"
    }
   ],
   "source": [
    "np.mean(p9)"
   ]
  },
  {
   "cell_type": "code",
   "execution_count": 47,
   "id": "4990c463",
   "metadata": {},
   "outputs": [
    {
     "data": {
      "text/plain": [
       "2.8284271247461903"
      ]
     },
     "execution_count": 47,
     "metadata": {},
     "output_type": "execute_result"
    }
   ],
   "source": [
    "np.std(p9)"
   ]
  },
  {
   "cell_type": "code",
   "execution_count": 48,
   "id": "e201863b",
   "metadata": {},
   "outputs": [
    {
     "data": {
      "text/plain": [
       "0"
      ]
     },
     "execution_count": 48,
     "metadata": {},
     "output_type": "execute_result"
    }
   ],
   "source": [
    "np.min(p9)"
   ]
  },
  {
   "cell_type": "code",
   "execution_count": 49,
   "id": "03eee4b6",
   "metadata": {},
   "outputs": [
    {
     "data": {
      "text/plain": [
       "array([ 9,  6, 15])"
      ]
     },
     "execution_count": 49,
     "metadata": {},
     "output_type": "execute_result"
    }
   ],
   "source": [
    "#Sum along rows (sum over columns)\n",
    "np.sum(p9, axis = 0)"
   ]
  },
  {
   "cell_type": "code",
   "execution_count": 50,
   "id": "98a9c3c8",
   "metadata": {},
   "outputs": [
    {
     "data": {
      "text/plain": [
       "array([10, 13,  7])"
      ]
     },
     "execution_count": 50,
     "metadata": {},
     "output_type": "execute_result"
    }
   ],
   "source": [
    "#Sum along columns (sum over rows)\n",
    "np.sum(p9, axis = 1)"
   ]
  },
  {
   "cell_type": "code",
   "execution_count": 51,
   "id": "73bdae51",
   "metadata": {},
   "outputs": [
    {
     "data": {
      "text/plain": [
       "array([[ 7,  7, 11],\n",
       "       [ 6,  8, 14],\n",
       "       [11,  6,  5]])"
      ]
     },
     "execution_count": 51,
     "metadata": {},
     "output_type": "execute_result"
    }
   ],
   "source": [
    "#Array operations\n",
    "p9 + 5"
   ]
  },
  {
   "cell_type": "code",
   "execution_count": 52,
   "id": "27185209",
   "metadata": {},
   "outputs": [
    {
     "data": {
      "text/plain": [
       "array([[ 4,  4, 12],\n",
       "       [ 2,  6, 18],\n",
       "       [12,  2,  0]])"
      ]
     },
     "execution_count": 52,
     "metadata": {},
     "output_type": "execute_result"
    }
   ],
   "source": [
    "p9 * 2"
   ]
  },
  {
   "cell_type": "code",
   "execution_count": 54,
   "id": "19304c44",
   "metadata": {},
   "outputs": [
    {
     "data": {
      "text/plain": [
       "array([[13.,  3.,  7.],\n",
       "       [ 3.,  3., 13.],\n",
       "       [ 7.,  5.,  3.]])"
      ]
     },
     "execution_count": 54,
     "metadata": {},
     "output_type": "execute_result"
    }
   ],
   "source": [
    "p2 + p9"
   ]
  },
  {
   "cell_type": "code",
   "execution_count": 55,
   "id": "71987f73",
   "metadata": {},
   "outputs": [
    {
     "data": {
      "text/plain": [
       "array([[22.,  2.,  6.],\n",
       "       [ 2.,  0., 36.],\n",
       "       [ 6.,  4.,  0.]])"
      ]
     },
     "execution_count": 55,
     "metadata": {},
     "output_type": "execute_result"
    }
   ],
   "source": [
    "p2 * p9"
   ]
  },
  {
   "cell_type": "code",
   "execution_count": 56,
   "id": "1c268e52",
   "metadata": {},
   "outputs": [
    {
     "data": {
      "text/plain": [
       "array([[29., 26., 75.],\n",
       "       [28.,  8., 12.],\n",
       "       [24., 17., 42.]])"
      ]
     },
     "execution_count": 56,
     "metadata": {},
     "output_type": "execute_result"
    }
   ],
   "source": [
    "#Matrix multiplication\n",
    "np.dot(p2, p9)"
   ]
  },
  {
   "cell_type": "code",
   "execution_count": 57,
   "id": "ca56a687",
   "metadata": {},
   "outputs": [
    {
     "data": {
      "text/plain": [
       "array([[2, 1, 6],\n",
       "       [2, 3, 1],\n",
       "       [6, 9, 0]])"
      ]
     },
     "execution_count": 57,
     "metadata": {},
     "output_type": "execute_result"
    }
   ],
   "source": [
    "#Transpose of a matrix\n",
    "p9.T"
   ]
  },
  {
   "cell_type": "code",
   "execution_count": 58,
   "id": "cf9ab72c",
   "metadata": {},
   "outputs": [
    {
     "data": {
      "text/plain": [
       "array([[False, False,  True],\n",
       "       [False,  True,  True],\n",
       "       [ True, False, False]])"
      ]
     },
     "execution_count": 58,
     "metadata": {},
     "output_type": "execute_result"
    }
   ],
   "source": [
    "#Boolian operations\n",
    "p9 > 2"
   ]
  },
  {
   "cell_type": "code",
   "execution_count": 59,
   "id": "1e6804ed",
   "metadata": {},
   "outputs": [
    {
     "data": {
      "text/plain": [
       "array([6, 9, 6])"
      ]
     },
     "execution_count": 59,
     "metadata": {},
     "output_type": "execute_result"
    }
   ],
   "source": [
    "#  &: and\n",
    "#  |: or\n",
    "#  ~: not\n",
    "\n",
    "p9[(p9 % 3 == 0) & (p9 > 4)]"
   ]
  },
  {
   "cell_type": "code",
   "execution_count": 60,
   "id": "de47594b",
   "metadata": {},
   "outputs": [
    {
     "data": {
      "text/plain": [
       "array([[11.,  1.,  1.],\n",
       "       [ 2.,  0.,  4.],\n",
       "       [ 1.,  4.,  3.],\n",
       "       [ 2.,  2.,  6.],\n",
       "       [ 1.,  3.,  9.],\n",
       "       [ 6.,  1.,  0.]])"
      ]
     },
     "execution_count": 60,
     "metadata": {},
     "output_type": "execute_result"
    }
   ],
   "source": [
    "#axis = 0 : concatenate vertically\n",
    "#axis = 1 : concatenate horizontally\n",
    "np.concatenate((p2, p9), axis = 0)"
   ]
  },
  {
   "cell_type": "markdown",
   "id": "b87ba871",
   "metadata": {},
   "source": [
    "# Assignment"
   ]
  },
  {
   "cell_type": "markdown",
   "id": "0f291a4f",
   "metadata": {},
   "source": [
    "Q3: Create a 4×5 numpy array of all True’s.\n",
    "\n",
    "Q4: Create an array of integers from 10 to 50 with with step of 3. Save the array in a. Replace all even numbers in a with -1.\n",
    "\n",
    "Q5: Create an one-dimensional array which includes odd numbers from 1 to 20.\n",
    "\n",
    "a: Change all numbers divisible by 3 into 0.\n",
    "\n",
    "b: Change the array into a 2x5 matrix. \n",
    "\n",
    "c: Convert all numbers of the third column into zero.\n",
    "Q6:\n",
    "\n",
    "a: Create an one-dimensional array, b1, which includes 9 numbers evenly spaced over 1.5 to 3.  \n",
    "\n",
    "b: Create a 3x3 matrix, b2, which includes random numbers from Gaussian distribution with mean = 1, and sd = 0.75, seed = 1234.\n",
    "\n",
    "c: Calculate the determinant of b2.\n",
    "\n",
    "d: What is the transpose of matrix b2?\n",
    "\n",
    "e: Convert b1 into a 3x3 matrix.\n",
    "\n",
    "f: Calculate summation of b1 and b2.\n",
    "\n",
    "g: Calculate matrix multiplication of b1 and b2.\n",
    "\n",
    "h: Call all numbers of b2 which are greater than mean of b2.\n",
    "\n",
    "i: Scale matrix b2 using min-max scaling method.\n",
    "End of Code"
   ]
  }
 ],
 "metadata": {
  "kernelspec": {
   "display_name": "Python 3 (ipykernel)",
   "language": "python",
   "name": "python3"
  },
  "language_info": {
   "codemirror_mode": {
    "name": "ipython",
    "version": 3
   },
   "file_extension": ".py",
   "mimetype": "text/x-python",
   "name": "python",
   "nbconvert_exporter": "python",
   "pygments_lexer": "ipython3",
   "version": "3.9.12"
  }
 },
 "nbformat": 4,
 "nbformat_minor": 5
}
